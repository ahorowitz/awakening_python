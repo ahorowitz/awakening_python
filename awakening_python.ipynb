{
 "cells": [
  {
   "cell_type": "markdown",
   "metadata": {},
   "source": [
    "# Awakening Python\n",
    "###### a tutorial for adam!\n",
    "\n",
    "by kathleen, with gratitude\n",
    "\n",
    "---\n",
    "# [0] Goals\n",
    "The goal of this notebook is to teach you how to go through an entire data analysis pipeline.\n",
    "\n",
    "We will...\n",
    "1. __Access this tutorial__ by using Github to clone it and Anaconda to open the notebook. We will use the terminal.\n",
    "2. __Learn the basics of programming__ by going over Python syntax, including _variables, control flow and iteration, data structures, and functions_. \n",
    "3. __Become familiar with libraries__ and understand how to read documentation to implement their features.\n",
    "4. __Import data__ by learning different ways to pull spreadsheets into the notebook.\n",
    "5. __Visualize and analyse data__ by plotting it and doing some statistical testing.\n",
    "6. __Debug__ by looking at common programming mistakes.\n",
    "7. __Meme around__ with a Python challenge!\n",
    "\n",
    "Let's begin!\n",
    "\n",
    "---\n",
    "\n",
    "# [1] Where are we? (how to access the tutorial locally)\n",
    "\n",
    "This is a **Jupyter Notebook**.\n",
    "\n",
    "It's currently posted within a **Github repository**: https://github.com/esfahany/awakening_python\n",
    "* _Github provides hosting for software development **version control** using Git_\n",
    "\n",
    "### Steps to access this notebook: \n",
    "#### 1: Create a Github account.\n",
    "https://github.com/join\n",
    "\n",
    "#### 2: Fork the repository into your account, then clone the repository onto your computer.\n",
    "https://github.com/esfahany/awakening_python.git (link also accessible on the repo)\n",
    "\n",
    "#### 3: Download Anaconda. \n",
    "(Open a new tab and find it! But it is here: https://www.anaconda.com/distribution/) \n",
    "\n",
    "Anaconda is a free and open-source distribution of the Python and R programming languages for scientific computing, that aims to simplify package management and deployment. It also comes with several IDEs (integrated development environments) including Jupyter Notebook!\n",
    "\n",
    "#### 4: Launch Jupyter Notebook.\n",
    "```jupyter notebook``` from the terminal\n",
    "\n",
    "*click* from Anaconda Navigator\n",
    "\n",
    "#### 5: Navigate to the tutorial repository and open the notebook."
   ]
  },
  {
   "cell_type": "markdown",
   "metadata": {},
   "source": [
    "# [2] Let's get coding! (Python basics)\n"
   ]
  },
  {
   "cell_type": "code",
   "execution_count": null,
   "metadata": {},
   "outputs": [],
   "source": [
    "# this is a comment\n",
    "\n",
    "# comments are useful to document your thoughts\n",
    "    # for the future\n",
    "    # for your team\n",
    "    \n",
    "# they can also be used to disable lines of code from running\n",
    "\n",
    "# comments will take you through this tutorial section\n",
    "\n",
    "# to comment, click on a line, and hit COMMAND + SLASH\n",
    "# same goes for uncommenting (duh!)"
   ]
  },
  {
   "cell_type": "code",
   "execution_count": null,
   "metadata": {},
   "outputs": [],
   "source": [
    "# these boxes are called \"cells\"\n",
    "    # there are different types of cells\n",
    "        # code (this one)\n",
    "        # markdown (the \"regular\" text)\n",
    "        # raw NB convert (not used too often)\n",
    "    # to convert between types, cut/copy/paste, or move cells, look to the menu at the top\n",
    "    # to run a cell, hit the \"run\" button or SHIFT + ENTER"
   ]
  },
  {
   "cell_type": "markdown",
   "metadata": {},
   "source": [
    "### Variables"
   ]
  },
  {
   "cell_type": "code",
   "execution_count": null,
   "metadata": {},
   "outputs": [],
   "source": [
    "# create a variable called \"name\" and assign the value to your first name as a string (text inside quotes)\n",
    "\n"
   ]
  },
  {
   "cell_type": "code",
   "execution_count": null,
   "metadata": {},
   "outputs": [],
   "source": [
    "# uncomment the line below and run the cell\n",
    "# assert (name == \"Adam\") \n",
    "# if there is an error, go back a cell"
   ]
  },
  {
   "cell_type": "code",
   "execution_count": null,
   "metadata": {},
   "outputs": [],
   "source": [
    "# create two variables and assign them to numbers\n",
    "\n"
   ]
  },
  {
   "cell_type": "code",
   "execution_count": null,
   "metadata": {},
   "outputs": [],
   "source": [
    "# print the two variables\n",
    "\n"
   ]
  },
  {
   "cell_type": "code",
   "execution_count": null,
   "metadata": {},
   "outputs": [],
   "source": [
    "### challenge: swap the values of the two variables ###\n",
    "\n"
   ]
  },
  {
   "cell_type": "code",
   "execution_count": null,
   "metadata": {},
   "outputs": [],
   "source": [
    "# do some math: add, subtract, multiply, divide, square\n",
    "# print each operation in the following format: operation result (example: sum: 5) \n",
    "\n"
   ]
  },
  {
   "cell_type": "code",
   "execution_count": null,
   "metadata": {},
   "outputs": [],
   "source": [
    "# compare the two variables to each other: greater, lesser, equal\n",
    "\n"
   ]
  },
  {
   "cell_type": "code",
   "execution_count": null,
   "metadata": {},
   "outputs": [],
   "source": [
    "# convert a string into an integer into a float. print the result.\n",
    "var = \"4\"\n",
    "\n"
   ]
  },
  {
   "cell_type": "code",
   "execution_count": null,
   "metadata": {},
   "outputs": [],
   "source": [
    "# check that the conversion worked. use the type() function\n",
    "\n"
   ]
  },
  {
   "cell_type": "markdown",
   "metadata": {},
   "source": [
    "##### concept checkpoint: variables (edit this cell w/ the answers)\n",
    "1. **What is a variable?**\n",
    "    * answer:\n",
    "\n",
    "\n",
    "2. **How do you create and assign value to a variable?**\n",
    "    * answer:\n",
    "\n",
    "\n",
    "3. **How are variables typically named?**\n",
    "    * answer:\n",
    "   \n",
    "\n",
    "4. **What is an operator? Give some examples.**\n",
    "    * answer:\n",
    "\n",
    "\n",
    "5. **Compare and contrast the assignment operator ```=``` and the comparison operator ```==```.**\n",
    "    * answer:\n",
    "\n",
    "\n",
    "6. **What are some types of things variables can hold?**\n",
    "    * answer:\n",
    "\n",
    "\n",
    "7. **Inside a notebook, are variables local to a cell?**\n",
    "    * answer:"
   ]
  },
  {
   "cell_type": "markdown",
   "metadata": {},
   "source": [
    "### Control flow and iteration"
   ]
  },
  {
   "cell_type": "code",
   "execution_count": null,
   "metadata": {},
   "outputs": [],
   "source": [
    "# these are some Booleans\n",
    "assert(True == (not False))\n",
    "assert(True != False)"
   ]
  },
  {
   "cell_type": "code",
   "execution_count": null,
   "metadata": {},
   "outputs": [],
   "source": [
    "# change the values of the variables below to observe each of the sections of the code below\n",
    "\n",
    "a = 9\n",
    "b = 5\n",
    "\n",
    "if a < b:\n",
    "    print(\"you made a smaller than b!\")\n",
    "elif a == b: \n",
    "    print(\"a and b are equal, yay\")\n",
    "else: ### \n",
    "    print(\"you made b smaller than a...\")\n",
    "\n",
    "# challenge question: what could the commented line be replaced with?\n"
   ]
  },
  {
   "cell_type": "code",
   "execution_count": null,
   "metadata": {},
   "outputs": [],
   "source": [
    "# the code below uses a \"for\" loop to print numbers 1 through 5\n",
    "# first, run the cell\n",
    "# then, add a control statement that will make the loop STOP when it reaches 4\n",
    "\n",
    "for i in range(1, 6):\n",
    "    print(i)\n",
    "    "
   ]
  },
  {
   "cell_type": "code",
   "execution_count": null,
   "metadata": {},
   "outputs": [],
   "source": [
    "# now, add a control statement that will make the loop SKIP 4\n",
    "\n",
    "for i in range(1, 6):\n",
    "    print(i)\n",
    "    "
   ]
  },
  {
   "cell_type": "code",
   "execution_count": null,
   "metadata": {},
   "outputs": [],
   "source": [
    "# now, add a control statement that will make the loop print \"memes\" when it reaches 3 and \"dreams\" when it reaches 5\n",
    "\n",
    "for i in range(1, 6):\n",
    "    print(i)\n",
    "    "
   ]
  },
  {
   "cell_type": "code",
   "execution_count": null,
   "metadata": {},
   "outputs": [],
   "source": [
    "# this is a \"while\" loop that does the same thing as the for loops above (prints 1 through 5)\n",
    "# first, run the cell\n",
    "# then, edit the code so that it only prints even numbers between 8 and 20\n",
    "    # you can do this in two ways (implement both. one here, and one in the cell below.)\n",
    "\n",
    "i = 1\n",
    "while (i < 6):\n",
    "    print(i)\n",
    "    i += 1\n",
    "    "
   ]
  },
  {
   "cell_type": "code",
   "execution_count": null,
   "metadata": {},
   "outputs": [],
   "source": [
    "# use a while loop to print only even numbers (in a different way than the cell above)\n",
    "\n"
   ]
  },
  {
   "cell_type": "code",
   "execution_count": null,
   "metadata": {},
   "outputs": [],
   "source": [
    "# use a for loop to print only multiples of 6\n",
    "\n"
   ]
  },
  {
   "cell_type": "markdown",
   "metadata": {},
   "source": [
    "##### concept checkpoint: control flow and iteration\n",
    "1. **What is a Boolean**? **What is \"not\" and \"!\"**?\n",
    "    * answer:\n",
    "    \n",
    "   \n",
    "2. **What is the difference between if, elif, and else?**\n",
    "    * answer:\n",
    "\n",
    "\n",
    "3. **What are the two main types of loops?**\n",
    "    * answer:\n",
    "\n",
    "\n",
    "4. **When is a \"for\" loop better? When is a \"while\" loop better?**\n",
    "    * answer:\n",
    "   \n",
    "\n",
    "5. **How can you stop a loop?**\n",
    "    * answer:\n",
    "\n",
    "\n",
    "6. **How can you force a loop to go back to the \"top\"?**\n",
    "    * answer:\n"
   ]
  },
  {
   "cell_type": "markdown",
   "metadata": {},
   "source": [
    "### Data structures"
   ]
  },
  {
   "cell_type": "markdown",
   "metadata": {},
   "source": [
    "##### Lists"
   ]
  },
  {
   "cell_type": "code",
   "execution_count": null,
   "metadata": {},
   "outputs": [],
   "source": [
    "# lists are so useful\n",
    "# create a list with more than 3 elements\n",
    "\n"
   ]
  },
  {
   "cell_type": "code",
   "execution_count": null,
   "metadata": {},
   "outputs": [],
   "source": [
    "# check the length of the list\n",
    "\n"
   ]
  },
  {
   "cell_type": "code",
   "execution_count": null,
   "metadata": {},
   "outputs": [],
   "source": [
    "# add an item to the list with the function \"append\"\n",
    "\n"
   ]
  },
  {
   "cell_type": "code",
   "execution_count": null,
   "metadata": {},
   "outputs": [],
   "source": [
    "# print the first element\n",
    "\n"
   ]
  },
  {
   "cell_type": "code",
   "execution_count": null,
   "metadata": {},
   "outputs": [],
   "source": [
    "# print the last element\n",
    "\n"
   ]
  },
  {
   "cell_type": "code",
   "execution_count": null,
   "metadata": {},
   "outputs": [],
   "source": [
    "# print the third element\n",
    "\n"
   ]
  },
  {
   "cell_type": "code",
   "execution_count": null,
   "metadata": {},
   "outputs": [],
   "source": [
    "### challenge: switch the value of the first and last elements ###\n",
    "\n"
   ]
  },
  {
   "cell_type": "code",
   "execution_count": null,
   "metadata": {},
   "outputs": [],
   "source": [
    "# remove an element with the function \"remove\"\n",
    "\n"
   ]
  },
  {
   "cell_type": "code",
   "execution_count": null,
   "metadata": {},
   "outputs": [],
   "source": [
    "# check the index of an element with the function \"index\"\n",
    "\n"
   ]
  },
  {
   "cell_type": "code",
   "execution_count": null,
   "metadata": {},
   "outputs": [],
   "source": [
    "# iterate over the elements by indexing\n",
    "\n"
   ]
  },
  {
   "cell_type": "code",
   "execution_count": null,
   "metadata": {},
   "outputs": [],
   "source": [
    "# iterate over the elements by direct access\n",
    "\n"
   ]
  },
  {
   "cell_type": "code",
   "execution_count": null,
   "metadata": {},
   "outputs": [],
   "source": [
    "# build a list through iteration\n",
    "\n"
   ]
  },
  {
   "cell_type": "markdown",
   "metadata": {},
   "source": [
    "##### Dictionaries"
   ]
  },
  {
   "cell_type": "code",
   "execution_count": null,
   "metadata": {},
   "outputs": [],
   "source": [
    "# a dictionary looks like this {key: value}\n",
    "my_dict = {\"a\": 27, \"c\": 21, \"k\": 19}\n",
    "\n",
    "# or like this\n",
    "my_dict = {27: \"a\", 21: \"c\", 19: k}"
   ]
  },
  {
   "cell_type": "code",
   "execution_count": null,
   "metadata": {},
   "outputs": [],
   "source": [
    "# write your own dictionary\n",
    "\n"
   ]
  },
  {
   "cell_type": "code",
   "execution_count": null,
   "metadata": {},
   "outputs": [],
   "source": [
    "# print only the keys\n",
    "\n"
   ]
  },
  {
   "cell_type": "code",
   "execution_count": null,
   "metadata": {},
   "outputs": [],
   "source": [
    "# print only the values\n",
    "\n"
   ]
  },
  {
   "cell_type": "code",
   "execution_count": null,
   "metadata": {},
   "outputs": [],
   "source": [
    "# add a key:value pair\n",
    "\n"
   ]
  },
  {
   "cell_type": "code",
   "execution_count": null,
   "metadata": {},
   "outputs": [],
   "source": [
    "### challenge: create a dictionary out of these two lists using a loop. print the dictionary ###\n",
    "key_list = [\"un\", \"deux\", \"trois\", \"quatre\", \"cinq\", \"six\", \"sept\"]\n",
    "value_list = [1, 2, 3, 4, 5, 6, 7]\n",
    "\n"
   ]
  },
  {
   "cell_type": "code",
   "execution_count": null,
   "metadata": {},
   "outputs": [],
   "source": [
    "# add \"huit\": 8 to the dict\n",
    "\n"
   ]
  },
  {
   "cell_type": "code",
   "execution_count": null,
   "metadata": {},
   "outputs": [],
   "source": [
    "# change \"deux\" to 2.0\n",
    "\n"
   ]
  },
  {
   "cell_type": "code",
   "execution_count": null,
   "metadata": {},
   "outputs": [],
   "source": [
    "### challenge: create a dictionary that sorts the following words by their length (length:[list of words]) ###\n",
    "# hint: begin by writing pseudocode using comments\n",
    "\n",
    "words = [\"dreams\", \"and\", \"memes\", \"are\", \"my\", \"favorite\", \"things\"]\n",
    "\n"
   ]
  },
  {
   "cell_type": "markdown",
   "metadata": {},
   "source": [
    "##### concept checkpoint: data structures\n",
    "1. **What is a list**?\n",
    "    * answer:\n",
    "\n",
    "\n",
    "2. **What functions can you use to add to a list? Remove?**\n",
    "    * answer:\n",
    "\n",
    "\n",
    "3. **What is it called when you access an element of a list? How is it done?**\n",
    "    * answer:\n",
    "   \n",
    "\n",
    "4. **What is a dictionary**?\n",
    "    * answer:\n",
    "\n",
    "\n",
    "5. **What are the elements in a dictionary called?**\n",
    "    * answer:\n"
   ]
  },
  {
   "cell_type": "markdown",
   "metadata": {},
   "source": [
    "### Functions"
   ]
  },
  {
   "cell_type": "code",
   "execution_count": null,
   "metadata": {},
   "outputs": [],
   "source": [
    "# functions let you avoid copying code around"
   ]
  },
  {
   "cell_type": "code",
   "execution_count": null,
   "metadata": {},
   "outputs": [],
   "source": [
    "# this function memes you\n",
    "\n",
    "def meme():\n",
    "    print(\"memed!\")\n",
    "    \n",
    "meme()"
   ]
  },
  {
   "cell_type": "code",
   "execution_count": null,
   "metadata": {},
   "outputs": [],
   "source": [
    "# this function tells you how many letters are in a word\n",
    "\n",
    "def how_many_letters(string_input):\n",
    "    \"\"\"\n",
    "    This is a docstring. This function returns how many characters there are in a string input\n",
    "    \n",
    "    string_input: a String input\n",
    "    \n",
    "    Returns an int\n",
    "    \"\"\"\n",
    "    return len(string_input)\n"
   ]
  },
  {
   "cell_type": "code",
   "execution_count": null,
   "metadata": {},
   "outputs": [],
   "source": [
    "# try using it here\n",
    "\n"
   ]
  },
  {
   "cell_type": "code",
   "execution_count": null,
   "metadata": {},
   "outputs": [],
   "source": [
    "# complete the function according to the docstring\n",
    "\n",
    "def list_sum(list_input):\n",
    "    \"\"\"\n",
    "    Returns the sum of the elements in a list\n",
    "    \n",
    "    list_input has integer elements\n",
    "    \n",
    "    \"\"\"\n",
    "    \n",
    "    pass"
   ]
  },
  {
   "cell_type": "code",
   "execution_count": null,
   "metadata": {},
   "outputs": [],
   "source": [
    "# write a function of your choice\n",
    "\n"
   ]
  },
  {
   "cell_type": "code",
   "execution_count": null,
   "metadata": {},
   "outputs": [],
   "source": [
    "# write a function with a default parameter\n",
    "\n"
   ]
  },
  {
   "cell_type": "code",
   "execution_count": null,
   "metadata": {},
   "outputs": [],
   "source": [
    "### very advanced function: recursion\n"
   ]
  },
  {
   "cell_type": "markdown",
   "metadata": {},
   "source": [
    "##### concept checkpoint: functions\n",
    "1. **What is a function**?\n",
    "    * answer:\n",
    "\n",
    "\n",
    "2. **Does a function need to have an input**?\n",
    "    * answer:\n",
    "\n",
    "\n",
    "3. **Does a function need to have an output**?\n",
    "    * answer:\n",
    "   \n",
    "\n",
    "4. **What is the keyword that ends a function**?\n",
    "    * answer:\n",
    "\n",
    "\n",
    "5. **Compare functions and methods.**\n",
    "    * answer:\n",
    "    \n",
    "    \n",
    "6. **What use is a default paramter**?\n",
    "    * answer:"
   ]
  },
  {
   "cell_type": "markdown",
   "metadata": {},
   "source": [
    "# [3] Using libraries \n",
    "**Computing & Stats**\n",
    "* NumPy\n",
    "* SciPy\n",
    "* Pandas\n",
    "* StatsModels\n",
    "\n",
    "**Visualization**\n",
    "* Matplotlib\n",
    "* Seaborn\n",
    "\n",
    "**Machine Learning**\n",
    "* Scikit-learn\n",
    "* TensorFlow\n",
    "* PyTorch\n",
    "* Keras\n",
    "* NLTK\n",
    "\n"
   ]
  },
  {
   "cell_type": "code",
   "execution_count": null,
   "metadata": {},
   "outputs": [],
   "source": [
    "# Anaconda makes it easy to use libraries\n",
    "import numpy as np\n"
   ]
  },
  {
   "cell_type": "code",
   "execution_count": null,
   "metadata": {},
   "outputs": [],
   "source": [
    "data = [4,5,6]\n",
    "\n",
    "# Use numpy to print the mean of the list\n",
    "\n"
   ]
  },
  {
   "cell_type": "code",
   "execution_count": null,
   "metadata": {},
   "outputs": [],
   "source": [
    "# convert the list to a numpy array\n",
    "\n",
    "# convert the array back to a list\n",
    "\n"
   ]
  },
  {
   "cell_type": "code",
   "execution_count": null,
   "metadata": {},
   "outputs": [],
   "source": [
    "# flip the order of the array (use a search engine to find the right function)\n",
    "\n",
    "\n"
   ]
  },
  {
   "cell_type": "markdown",
   "metadata": {},
   "source": [
    "# [4] Import some data\n",
    "\n",
    "### Project description:\n",
    "You are a new grad student at MIT. You are trying to decide where to live for the next several years, so you spend 20 days living in each location. You record your location, the amount you spent, and the amount of fun you had each day. Now you will analyze your data to make a decision.\n",
    "\n",
    "### Data\n",
    "Google sheet here:\n",
    "https://docs.google.com/spreadsheets/d/1d8JGtWLUcD_CwTdEsu1z5wmORvzBexDibA1FKdz_gdA/edit?usp=sharing\n",
    "\n",
    "Method 1: conversion, download, local storage, file access\n",
    "\n",
    "Method 2: online publish and direct access"
   ]
  },
  {
   "cell_type": "code",
   "execution_count": null,
   "metadata": {},
   "outputs": [],
   "source": [
    "# import Pandas as pd\n",
    "\n"
   ]
  },
  {
   "cell_type": "code",
   "execution_count": null,
   "metadata": {},
   "outputs": [],
   "source": [
    "# use Pandas to do method 1\n",
    "\n"
   ]
  },
  {
   "cell_type": "code",
   "execution_count": null,
   "metadata": {},
   "outputs": [],
   "source": [
    "# use Pandas to do method 2\n",
    "\n"
   ]
  },
  {
   "cell_type": "code",
   "execution_count": null,
   "metadata": {},
   "outputs": [],
   "source": [
    "# preview the data using \"head()\"\n",
    "\n"
   ]
  },
  {
   "cell_type": "code",
   "execution_count": null,
   "metadata": {},
   "outputs": [],
   "source": [
    "# let's think about some questions we want to answer and list them below\n"
   ]
  },
  {
   "cell_type": "markdown",
   "metadata": {},
   "source": [
    "# [5] Visualization and Analysis\n",
    "\n",
    "Let's answer our questions!"
   ]
  },
  {
   "cell_type": "code",
   "execution_count": null,
   "metadata": {},
   "outputs": [],
   "source": []
  },
  {
   "cell_type": "markdown",
   "metadata": {},
   "source": [
    "# [6] Debugging\n",
    "\n",
    "Some common issues\n",
    "\n",
    "For each: \n",
    "1. Run the cell to observe the error\n",
    "2. Copy the cell and fix the bug\n"
   ]
  },
  {
   "cell_type": "code",
   "execution_count": null,
   "metadata": {},
   "outputs": [],
   "source": [
    "# infinite loop error\n",
    "i = 0\n",
    "while (i < 10):\n",
    "    continue"
   ]
  },
  {
   "cell_type": "code",
   "execution_count": null,
   "metadata": {},
   "outputs": [],
   "source": [
    "# syntax error: variable assignment\n",
    "var ="
   ]
  },
  {
   "cell_type": "code",
   "execution_count": null,
   "metadata": {},
   "outputs": [],
   "source": [
    "# syntax error: iteration\n",
    "for i in 10:\n",
    "    print(i)"
   ]
  },
  {
   "cell_type": "code",
   "execution_count": null,
   "metadata": {},
   "outputs": [],
   "source": [
    "# syntax error: iteration\n",
    "for in range(10)\n",
    "    print(i)"
   ]
  },
  {
   "cell_type": "code",
   "execution_count": null,
   "metadata": {},
   "outputs": [],
   "source": [
    "# syntax error: parenthetical mismatch\n",
    "print((1+4)*(4.0/6)-(8-1)"
   ]
  },
  {
   "cell_type": "code",
   "execution_count": null,
   "metadata": {},
   "outputs": [],
   "source": [
    "# off by one\n",
    "data = [0,1,2,3]\n",
    "for i in range(5):\n",
    "    print(data[i])"
   ]
  },
  {
   "cell_type": "code",
   "execution_count": null,
   "metadata": {},
   "outputs": [],
   "source": [
    "# key error\n",
    "my_dict = {1:1, 2:2, 3:3, 5:5}\n",
    "for i in range(1, 6):\n",
    "    print(my_dict[i])"
   ]
  },
  {
   "cell_type": "code",
   "execution_count": null,
   "metadata": {},
   "outputs": [],
   "source": [
    "# function argument error\n",
    "\n",
    "def buggy(string_input):\n",
    "    print(string_input)\n",
    "\n",
    "# uncomment one at a time\n",
    "# buggy(\"ok\", \"ok\")\n",
    "# buggy()"
   ]
  },
  {
   "cell_type": "code",
   "execution_count": null,
   "metadata": {},
   "outputs": [],
   "source": [
    "# issue with package function\n",
    "\n",
    "np.mean([1,2,3], [1,2,3])"
   ]
  },
  {
   "cell_type": "markdown",
   "metadata": {},
   "source": [
    "# [7] Memeing\n",
    "\n",
    "Python challenge!"
   ]
  },
  {
   "cell_type": "code",
   "execution_count": null,
   "metadata": {},
   "outputs": [],
   "source": [
    "# write the shortest function possible to sort a list\n",
    "\n"
   ]
  },
  {
   "cell_type": "code",
   "execution_count": null,
   "metadata": {},
   "outputs": [],
   "source": [
    "# print \"2019\" without using any digits in your code \n",
    "\n"
   ]
  },
  {
   "cell_type": "code",
   "execution_count": null,
   "metadata": {},
   "outputs": [],
   "source": [
    "# in one line of code, turn \"I liKE foOd\" into \"i:like:food\"\n",
    "\n",
    "text = \"I liKE foOd\"\n"
   ]
  },
  {
   "cell_type": "markdown",
   "metadata": {},
   "source": [
    "I hope you enjoyed this tutorial. To end, please save, close and halt, and then commit and push your changes to your git repo. \n"
   ]
  }
 ],
 "metadata": {
  "kernelspec": {
   "display_name": "Python 3",
   "language": "python",
   "name": "python3"
  },
  "language_info": {
   "codemirror_mode": {
    "name": "ipython",
    "version": 3
   },
   "file_extension": ".py",
   "mimetype": "text/x-python",
   "name": "python",
   "nbconvert_exporter": "python",
   "pygments_lexer": "ipython3",
   "version": "3.7.1"
  }
 },
 "nbformat": 4,
 "nbformat_minor": 2
}
