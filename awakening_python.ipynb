{
 "cells": [
  {
   "cell_type": "markdown",
   "metadata": {},
   "source": [
    "# Awakening Python\n",
    "###### a tutorial for adam!\n",
    "\n",
    "by kathleen, with gratitude\n",
    "\n",
    "---\n",
    "# [0] Goals\n",
    "The goal of this notebook is to teach you how to go through an entire data analysis pipeline.\n",
    "\n",
    "We will...\n",
    "1. __Access this tutorial__ by using Github to clone it and Anaconda to open the notebook. We will use the terminal.\n",
    "2. __Learn the basics of programming__ by going over Python syntax, including _variables, control flow and iteration, data structures, and functions_. \n",
    "3. __Become familiar with libraries__ and understand how to read documentation to implement their features.\n",
    "4. __Import data__ by learning different ways to pull spreadsheets into the notebook.\n",
    "5. __Visualize and analyse data__ by plotting it and doing some statistical testing.\n",
    "6. __Debug__ by looking at common programming mistakes.\n",
    "7. __Meme around__ with a Python challenge!\n",
    "\n",
    "Let's begin!\n",
    "\n",
    "---\n",
    "\n",
    "# [1] Where are we? (how to access the tutorial locally)\n",
    "\n",
    "This is a **Jupyter Notebook**.\n",
    "\n",
    "It's currently posted within a **Github repository**: https://github.com/esfahany/awakening_python\n",
    "* _Github provides hosting for software development **version control** using Git_\n",
    "\n",
    "### Steps to access this notebook: \n",
    "#### 1: Create a Github account.\n",
    "https://github.com/join\n",
    "\n",
    "#### 2: Fork the repository into your account, then clone the repository onto your computer.\n",
    "https://github.com/esfahany/awakening_python.git (link also accessible on the repo)\n",
    "\n",
    "#### 3: Download Anaconda. \n",
    "(Open a new tab and find it! But it is here: https://www.anaconda.com/distribution/) \n",
    "\n",
    "Anaconda is a free and open-source distribution of the Python and R programming languages for scientific computing, that aims to simplify package management and deployment. It also comes with several IDEs (integrated development environments) including Jupyter Notebook!\n",
    "\n",
    "#### 4: Launch Jupyter Notebook.\n",
    "```jupyter notebook``` from the terminal\n",
    "\n",
    "OR *click* from Anaconda Navigator\n",
    "\n",
    "#### 5: Navigate to the tutorial repository and open the notebook."
   ]
  },
  {
   "cell_type": "markdown",
   "metadata": {},
   "source": [
    "# [2] Let's get coding! (Python basics)\n"
   ]
  },
  {
   "cell_type": "code",
   "execution_count": 1,
   "metadata": {},
   "outputs": [],
   "source": [
    "# this is a comment\n",
    "\n",
    "# comments are useful to document your thoughts\n",
    "    # for the future\n",
    "    # for your team\n",
    "    \n",
    "# they can also be used to disable lines of code from running\n",
    "\n",
    "# comments will take you through this tutorial section\n",
    "\n",
    "# to comment, click on a line, and hit COMMAND + SLASH\n",
    "# same goes for uncommenting (duh!)"
   ]
  },
  {
   "cell_type": "code",
   "execution_count": null,
   "metadata": {},
   "outputs": [],
   "source": [
    "# these boxes are called \"cells\"\n",
    "    # there are different types of cells\n",
    "        # code (this one)\n",
    "        # markdown (the \"regular\" text)\n",
    "        # raw NB convert (not used too often)\n",
    "    # to convert between types, cut/copy/paste, or move cells, look to the menu at the top\n",
    "    # to run a cell, hit the \"run\" button or SHIFT + ENTER"
   ]
  },
  {
   "cell_type": "markdown",
   "metadata": {},
   "source": [
    "### Variables"
   ]
  },
  {
   "cell_type": "code",
   "execution_count": 2,
   "metadata": {},
   "outputs": [],
   "source": [
    "# create a variable called \"name\" and assign the value to your first name as a string (text inside quotes)\n",
    "\n",
    "name=\"Adam\""
   ]
  },
  {
   "cell_type": "code",
   "execution_count": 5,
   "metadata": {},
   "outputs": [],
   "source": [
    "# uncomment the line below and run the cell\n",
    "assert (name == \"Adam\") \n",
    "# if there is an error, go back a cell"
   ]
  },
  {
   "cell_type": "code",
   "execution_count": 34,
   "metadata": {},
   "outputs": [],
   "source": [
    "# create two variables and assign them to numbers\n",
    "num1=2\n",
    "num2=14\n"
   ]
  },
  {
   "cell_type": "code",
   "execution_count": 35,
   "metadata": {},
   "outputs": [
    {
     "name": "stdout",
     "output_type": "stream",
     "text": [
      "2\n",
      "14\n"
     ]
    }
   ],
   "source": [
    "# print the two variables\n",
    "\n",
    "print (num1)\n",
    "print (num2)"
   ]
  },
  {
   "cell_type": "code",
   "execution_count": 38,
   "metadata": {},
   "outputs": [
    {
     "name": "stdout",
     "output_type": "stream",
     "text": [
      "14 2 2\n"
     ]
    }
   ],
   "source": [
    "### challenge: swap the values of the two variables ###\n",
    "\n",
    "# num1 = num1+2\n",
    "# num2=num2-2\n",
    "# print (num1)\n",
    "# print (num2)   #this is wrong because once you switch num 1 to num2, you cannot then change num 2 to num1\n",
    "\n",
    "num3=num1 #so we store the num1 value as another variable before we do our switching and then we use our stored value \n",
    "num1=num2\n",
    "num2=num3\n",
    "\n",
    "print (num1, num2, num3)\n"
   ]
  },
  {
   "cell_type": "code",
   "execution_count": 44,
   "metadata": {},
   "outputs": [
    {
     "name": "stdout",
     "output_type": "stream",
     "text": [
      "sum: 16\n",
      "subtract: 12\n",
      "multiply: 28\n",
      "divide: 7.0\n",
      "square: 196\n"
     ]
    }
   ],
   "source": [
    "# do some math: add, subtract, multiply, divide, square\n",
    "# print each operation in the following format: operation result (example: sum: 5) \n",
    "\n",
    "toop=num1+num2\n",
    "\n",
    "print (\"sum:\", toop)\n",
    "print (\"subtract:\", num1-num2)\n",
    "print (\"multiply:\", num1*num2)\n",
    "print (\"divide:\", num1/num2)  #if you do two slash signs it changes the result from a float to an int\n",
    "print (\"square:\", num1**2)"
   ]
  },
  {
   "cell_type": "code",
   "execution_count": 54,
   "metadata": {},
   "outputs": [
    {
     "name": "stdout",
     "output_type": "stream",
     "text": [
      "True\n",
      "False\n",
      "False\n",
      "False\n"
     ]
    }
   ],
   "source": [
    "# compare the two variables to each other: greater, lesser, equal\n",
    "\n",
    "print (num1>=num2)\n",
    "print (num1<=num2)\n",
    "print (num1==num2)\n",
    "\n",
    "truth=(num1==num2)\n",
    "print (truth)\n",
    "\n"
   ]
  },
  {
   "cell_type": "code",
   "execution_count": 71,
   "metadata": {},
   "outputs": [
    {
     "name": "stdout",
     "output_type": "stream",
     "text": [
      "4\n",
      "<class 'int'>\n",
      "4.0\n"
     ]
    }
   ],
   "source": [
    "# convert a string into an integer into a float. print the result.\n",
    "var = \"4\"\n",
    "var=int(var)\n",
    "print (var)\n",
    "\n",
    "print (type (var))\n",
    "\n",
    "var=float(var)\n",
    "print (var)"
   ]
  },
  {
   "cell_type": "code",
   "execution_count": 73,
   "metadata": {},
   "outputs": [
    {
     "data": {
      "text/plain": [
       "float"
      ]
     },
     "execution_count": 73,
     "metadata": {},
     "output_type": "execute_result"
    }
   ],
   "source": [
    "# check that the conversion worked. use the type() function\n",
    "\n",
    "type (var)"
   ]
  },
  {
   "cell_type": "markdown",
   "metadata": {},
   "source": [
    "##### concept checkpoint: variables (edit this cell w/ the answers)\n",
    "1. **What is a variable?**\n",
    "    * answer: place to put info\n",
    "\n",
    "\n",
    "2. **How do you create and assign value to a variable?**\n",
    "    * answer: name it, and then do an equals sign. adam=43\n",
    "\n",
    "\n",
    "3. **How are variables typically named?**\n",
    "    * answer: lowercase and underscores\n",
    "   \n",
    "\n",
    "4. **What is an operator? Give some examples.**\n",
    "    * answer: +, -\n",
    "\n",
    "\n",
    "5. **Compare and contrast the assignment operator ```=``` and the comparison operator ```==```.**\n",
    "    * answer: got it\n",
    "\n",
    "\n",
    "6. **What are some types of things variables can hold?**\n",
    "    * answer: numbers, strings\n",
    "\n",
    "\n",
    "7. **Inside a notebook, are variables local to a cell?**\n",
    "    * answer: yes if you only run one it doesn't go back. but if you run them all then no. "
   ]
  },
  {
   "cell_type": "markdown",
   "metadata": {},
   "source": [
    "### Control flow and iteration"
   ]
  },
  {
   "cell_type": "code",
   "execution_count": 75,
   "metadata": {},
   "outputs": [],
   "source": [
    "# these are some Booleans\n",
    "assert(True == (not False))\n",
    "assert(True != False)"
   ]
  },
  {
   "cell_type": "code",
   "execution_count": 79,
   "metadata": {},
   "outputs": [
    {
     "name": "stdout",
     "output_type": "stream",
     "text": [
      "a and b are equal, yay\n"
     ]
    }
   ],
   "source": [
    "# change the values of the variables below to observe each of the sections of the code below\n",
    "\n",
    "a = 7\n",
    "b = 7\n",
    "\n",
    "if a < b:\n",
    "    print(\"you made a smaller than b!\")\n",
    "elif a == b: \n",
    "    print(\"a and b are equal, yay\")\n",
    "else: ### \n",
    "    print(\"you made b smaller than a...\")\n",
    "\n",
    "# challenge question: what could the commented line be replaced with?\n"
   ]
  },
  {
   "cell_type": "code",
   "execution_count": 87,
   "metadata": {},
   "outputs": [
    {
     "name": "stdout",
     "output_type": "stream",
     "text": [
      "1\n",
      "2\n",
      "3\n",
      "4\n"
     ]
    }
   ],
   "source": [
    "# the code below uses a \"for\" loop to print numbers 1 through 5\n",
    "# first, run the cell\n",
    "# then, add a control statement that will make the loop STOP when it reaches 4\n",
    "\n",
    "# for i in range(1, 6):\n",
    "#     if i<5:\n",
    "#         print(i)\n",
    "#     else: \n",
    "#         continue     #This is one way to do the stopping at 4, but continue only stops the printing \n",
    "                            # not the whole loop. Break stops the whole loop!\n",
    "\n",
    "\n",
    "for i in range(1, 6):\n",
    "    if i<5:\n",
    "        print(i)\n",
    "    else: \n",
    "        break \n",
    "    \n",
    "    "
   ]
  },
  {
   "cell_type": "code",
   "execution_count": 88,
   "metadata": {},
   "outputs": [
    {
     "name": "stdout",
     "output_type": "stream",
     "text": [
      "1\n",
      "2\n",
      "3\n",
      "5\n"
     ]
    }
   ],
   "source": [
    "# now, add a control statement that will make the loop SKIP 4\n",
    "\n",
    "for i in range(1, 6):\n",
    "    if i==4:\n",
    "        continue\n",
    "    print (i)\n",
    "    \n",
    "    \n",
    "    "
   ]
  },
  {
   "cell_type": "code",
   "execution_count": 90,
   "metadata": {},
   "outputs": [
    {
     "name": "stdout",
     "output_type": "stream",
     "text": [
      "1\n",
      "2\n",
      "memes\n",
      "4\n",
      "dreams\n"
     ]
    }
   ],
   "source": [
    "# now, add a control statement that will make the loop print \"memes\" when it reaches 3 and \"dreams\" when it reaches 5\n",
    "\n",
    "for i in range(1, 6):\n",
    "    if i==3:\n",
    "        print (\"memes\")\n",
    "    elif i==5:\n",
    "        print (\"dreams\") #elif excludes the first condition\n",
    "    else:\n",
    "        print(i)\n",
    "    "
   ]
  },
  {
   "cell_type": "code",
   "execution_count": 100,
   "metadata": {},
   "outputs": [
    {
     "name": "stdout",
     "output_type": "stream",
     "text": [
      "8\n",
      "10\n",
      "12\n",
      "14\n",
      "16\n",
      "18\n",
      "20\n"
     ]
    }
   ],
   "source": [
    "# this is a \"while\" loop that does the same thing as the for loops above (prints 1 through 5)\n",
    "# first, run the cell\n",
    "# then, edit the code so that it only prints even numbers between 8 and 20\n",
    "    # you can do this in two ways (implement both. one here, and one in the cell below.)\n",
    "\n",
    "# i = 8 #this changes the starting value\n",
    "# while (i < 21):\n",
    "#     print(i)\n",
    "#     i += 2 #this changes the increment\n",
    "    \n",
    "i = 8\n",
    "while (i<21):\n",
    "    if i%2==0:    #this sign is called mod. It checks what remainders look like. %\n",
    "        print (i)\n",
    "    i +=1"
   ]
  },
  {
   "cell_type": "code",
   "execution_count": 114,
   "metadata": {},
   "outputs": [
    {
     "name": "stdout",
     "output_type": "stream",
     "text": [
      "96\n",
      "90\n",
      "84\n",
      "78\n",
      "72\n",
      "66\n",
      "60\n",
      "54\n",
      "48\n",
      "42\n",
      "36\n",
      "30\n",
      "24\n",
      "18\n",
      "12\n",
      "6\n"
     ]
    }
   ],
   "source": [
    "# use a for loop to print only multiples of 6\n",
    "\n",
    "# for i in range(1,100):\n",
    "#     if i%6==0:\n",
    "#         print (i)\n",
    "\n",
    "# for i in range (0,100,6): #your third value is your incrementing value, like the += in a while loop\n",
    "#     print (i)\n",
    "\n",
    "for i in range (96,0, -6): #your third value is your incrementing value, like the += in a while loop\n",
    "    print (i)\n",
    "\n"
   ]
  },
  {
   "cell_type": "markdown",
   "metadata": {},
   "source": [
    "##### concept checkpoint: control flow and iteration\n",
    "1. **What is a Boolean**? **What is \"not\" and \"!\"**?\n",
    "    * answer: true/false comparison statements. They are always capital. True/False. \n",
    "    \n",
    "   \n",
    "2. **What is the difference between if, elif, and else?**\n",
    "    * answer: if a thing, if a specific exception, if all exceptions\n",
    "\n",
    "\n",
    "3. **What are the two main types of loops?**\n",
    "    * answer: for while\n",
    "\n",
    "\n",
    "4. **When is a \"for\" loop better? When is a \"while\" loop better?**\n",
    "    * answer: when you know the end point. vs. when you wanna do infinity, and keep going, and keep checking\n",
    "   \n",
    "\n",
    "5. **How can you stop a loop?**\n",
    "    * answer: break \n",
    "\n",
    "\n",
    "6. **How can you force a loop to go back to the \"top\"?**\n",
    "    * answer: continue\n"
   ]
  },
  {
   "cell_type": "markdown",
   "metadata": {},
   "source": [
    "### Data structures"
   ]
  },
  {
   "cell_type": "markdown",
   "metadata": {},
   "source": [
    "##### Lists"
   ]
  },
  {
   "cell_type": "code",
   "execution_count": 121,
   "metadata": {},
   "outputs": [
    {
     "name": "stdout",
     "output_type": "stream",
     "text": [
      "3\n"
     ]
    }
   ],
   "source": [
    "# lists are so useful\n",
    "# create a list with more than 3 elements\n",
    "\n",
    "limp=[1,3,6,4]\n",
    "print (limp[1])\n",
    "\n",
    "\n"
   ]
  },
  {
   "cell_type": "code",
   "execution_count": 122,
   "metadata": {},
   "outputs": [
    {
     "data": {
      "text/plain": [
       "4"
      ]
     },
     "execution_count": 122,
     "metadata": {},
     "output_type": "execute_result"
    }
   ],
   "source": [
    "# check the length of the list\n",
    "\n",
    "len (limp)"
   ]
  },
  {
   "cell_type": "code",
   "execution_count": 123,
   "metadata": {},
   "outputs": [
    {
     "name": "stdout",
     "output_type": "stream",
     "text": [
      "[1, 3, 6, 4, 76]\n"
     ]
    }
   ],
   "source": [
    "# add an item to the list with the function \"append\"\n",
    "\n",
    "\n",
    "limp.append(76)\n",
    "print (limp)"
   ]
  },
  {
   "cell_type": "code",
   "execution_count": 124,
   "metadata": {},
   "outputs": [
    {
     "name": "stdout",
     "output_type": "stream",
     "text": [
      "1\n"
     ]
    }
   ],
   "source": [
    "# print the first element\n",
    "\n",
    "print (limp[0])\n"
   ]
  },
  {
   "cell_type": "code",
   "execution_count": 131,
   "metadata": {},
   "outputs": [
    {
     "name": "stdout",
     "output_type": "stream",
     "text": [
      "76\n",
      "76\n"
     ]
    }
   ],
   "source": [
    "# print the last element\n",
    "print (limp[len(limp)-1]) #the long way. the -1 is because the len is not indexed from 0 but the list IS\n",
    "print (limp[-1]) #the short way\n"
   ]
  },
  {
   "cell_type": "code",
   "execution_count": 133,
   "metadata": {},
   "outputs": [
    {
     "name": "stdout",
     "output_type": "stream",
     "text": [
      "6\n"
     ]
    }
   ],
   "source": [
    "# print the third element\n",
    "print (limp[2])\n"
   ]
  },
  {
   "cell_type": "code",
   "execution_count": 147,
   "metadata": {},
   "outputs": [
    {
     "name": "stdout",
     "output_type": "stream",
     "text": [
      "[76, 3, 6, 4, 234]\n"
     ]
    }
   ],
   "source": [
    "### challenge: switch the value of the first and last elements ###\n",
    "\n",
    "\n",
    "first=limp[0]\n",
    "limp[0]=limp[-1]\n",
    "limp[-1]=first\n",
    "print (limp)\n",
    "\n"
   ]
  },
  {
   "cell_type": "code",
   "execution_count": 148,
   "metadata": {},
   "outputs": [
    {
     "name": "stdout",
     "output_type": "stream",
     "text": [
      "[76, 3, 4, 234]\n"
     ]
    }
   ],
   "source": [
    "# remove an element with the function \"remove\"\n",
    "\n",
    "limp.remove(limp[2])\n",
    "print (limp)"
   ]
  },
  {
   "cell_type": "code",
   "execution_count": 149,
   "metadata": {},
   "outputs": [
    {
     "data": {
      "text/plain": [
       "2"
      ]
     },
     "execution_count": 149,
     "metadata": {},
     "output_type": "execute_result"
    }
   ],
   "source": [
    "# check the index of an element with the function \"index\"\n",
    "\n",
    "limp.index(4)"
   ]
  },
  {
   "cell_type": "code",
   "execution_count": 150,
   "metadata": {},
   "outputs": [
    {
     "name": "stdout",
     "output_type": "stream",
     "text": [
      "76\n",
      "3\n",
      "4\n",
      "234\n"
     ]
    }
   ],
   "source": [
    "# iterate over the elements by indexing\n",
    "\n",
    "for i in range (len(limp)):  #this line takes us through the whole list\n",
    "    print (limp[i]) #and this does some function (print) to each element we pass over"
   ]
  },
  {
   "cell_type": "code",
   "execution_count": 151,
   "metadata": {},
   "outputs": [
    {
     "name": "stdout",
     "output_type": "stream",
     "text": [
      "76\n",
      "3\n",
      "4\n",
      "234\n"
     ]
    }
   ],
   "source": [
    "# iterate over the elements by direct access\n",
    "\n",
    "for item in limp:\n",
    "    print (item)\n",
    "    \n"
   ]
  },
  {
   "cell_type": "code",
   "execution_count": 152,
   "metadata": {},
   "outputs": [
    {
     "name": "stdout",
     "output_type": "stream",
     "text": [
      "[0, 2, 4, 6, 8, 10]\n"
     ]
    }
   ],
   "source": [
    "# build a list through iteration\n",
    "\n",
    "ok=[]\n",
    "for i in range (0,11,2):\n",
    "    ok.append(i) #I DID IT by muyself\n",
    "    \n",
    "print (ok)"
   ]
  },
  {
   "cell_type": "markdown",
   "metadata": {},
   "source": [
    "##### Dictionaries"
   ]
  },
  {
   "cell_type": "code",
   "execution_count": null,
   "metadata": {},
   "outputs": [],
   "source": [
    "# a dictionary looks like this {key: value}\n",
    "my_dict = {\"a\": 27, \"c\": 21, \"k\": 19}   #keys are immutable, values are whatever. so for keys you can use strings, ints, etc. \n",
    "\n",
    "# or like this\n",
    "my_dict = {27: \"a\", 21: \"c\", 19: k}"
   ]
  },
  {
   "cell_type": "code",
   "execution_count": 156,
   "metadata": {},
   "outputs": [
    {
     "name": "stdout",
     "output_type": "stream",
     "text": [
      "{'adam': 234, 'jam': 2342342}\n"
     ]
    }
   ],
   "source": [
    "# write your own dictionary\n",
    "\n",
    "my_dito = {\"adam\": 234, \"jam\": 2342342}\n",
    "print (my_dito)"
   ]
  },
  {
   "cell_type": "code",
   "execution_count": 157,
   "metadata": {},
   "outputs": [
    {
     "name": "stdout",
     "output_type": "stream",
     "text": [
      "dict_keys(['adam', 'jam'])\n"
     ]
    }
   ],
   "source": [
    "# print only the keys\n",
    "\n",
    "print (my_dito.keys())"
   ]
  },
  {
   "cell_type": "code",
   "execution_count": 162,
   "metadata": {},
   "outputs": [
    {
     "name": "stdout",
     "output_type": "stream",
     "text": [
      "dict_values([234, 2342342])\n"
     ]
    }
   ],
   "source": [
    "# print only the values\n",
    "print (my_dito.values())\n"
   ]
  },
  {
   "cell_type": "code",
   "execution_count": 174,
   "metadata": {},
   "outputs": [
    {
     "name": "stdout",
     "output_type": "stream",
     "text": [
      "{'adam': 234, 'jam': 2342342, 'tester': 33333}\n",
      "{'adam': 234, 'jam': 2342342, 'tester': 333336578}\n"
     ]
    }
   ],
   "source": [
    "# add a key:value pair\n",
    "\n",
    "my_dito[\"tester\"]=33333\n",
    "print (my_dito)\n",
    "\n",
    "my_dito[\"tester\"]=333336578 #KEYS ARE UNIQUE. they won't change. but values will change.\n",
    "print (my_dito)\n"
   ]
  },
  {
   "cell_type": "code",
   "execution_count": 192,
   "metadata": {},
   "outputs": [
    {
     "name": "stdout",
     "output_type": "stream",
     "text": [
      "333336578\n"
     ]
    }
   ],
   "source": [
    "x=my_dito[\"tester\"]\n",
    "print (x)"
   ]
  },
  {
   "cell_type": "code",
   "execution_count": 176,
   "metadata": {},
   "outputs": [
    {
     "name": "stdout",
     "output_type": "stream",
     "text": [
      "adam 234\n",
      "jam 2342342\n",
      "tester 333336578\n"
     ]
    }
   ],
   "source": [
    "#iterating over a dictionary\n",
    "\n",
    "for zabre in my_dito.keys():\n",
    "    print (zabre, my_dito[zabre])"
   ]
  },
  {
   "cell_type": "code",
   "execution_count": 184,
   "metadata": {},
   "outputs": [
    {
     "name": "stdout",
     "output_type": "stream",
     "text": [
      "keys: ['adam', 'jam', 'tester']\n",
      "3\n",
      "adam 234\n",
      "jam 2342342\n",
      "tester 333336578\n"
     ]
    }
   ],
   "source": [
    "#iterating over a dictionary with indexing\n",
    "print(\"keys:\", list(my_dito.keys()))\n",
    "num_of_keys = len(my_dito.keys())\n",
    "print(num_of_keys)\n",
    "\n",
    "for i in range (num_of_keys):\n",
    "    goo=list(my_dito.keys())[i]\n",
    "    print (goo, my_dito[goo])    #this is just like indexing in a list, where you ask for the value associated with that number. but instead you are asking for the value that is associated with the specific key. \n",
    "    \n",
    "\n",
    "    "
   ]
  },
  {
   "cell_type": "code",
   "execution_count": 191,
   "metadata": {},
   "outputs": [
    {
     "name": "stdout",
     "output_type": "stream",
     "text": [
      "{'un': 1, 'deux': 2, 'trois': 3, 'quatre': 4, 'cinq': 5, 'six': 6, 'sept': 7}\n"
     ]
    }
   ],
   "source": [
    "### challenge: create a dictionary out of these two lists using a loop. print the dictionary ###\n",
    "key_list = [\"un\", \"deux\", \"trois\", \"quatre\", \"cinq\", \"six\", \"sept\"]\n",
    "value_list = [1, 2, 3, 4, 5, 6, 7]\n",
    "\n",
    "new_dict={} #first make it\n",
    "\n",
    "for i in range (len(key_list)):\n",
    "    new_dict[key_list[i]]= value_list[i] #then for all of the number of elements in the key list I am adding that key to the new dict\n",
    "                                        #and assigning it the value from the value list\n",
    "\n",
    "print (new_dict)\n",
    "\n",
    "# for elements\n",
    "    # add key and value\n",
    "    \n"
   ]
  },
  {
   "cell_type": "code",
   "execution_count": 194,
   "metadata": {},
   "outputs": [
    {
     "name": "stdout",
     "output_type": "stream",
     "text": [
      "{'un': 1, 'deux': 2, 'trois': 3, 'quatre': 4, 'cinq': 5, 'six': 6, 'sept': 7, 'huit': 8}\n"
     ]
    }
   ],
   "source": [
    "# add \"huit\": 8 to the dict\n",
    "\n",
    "new_dict[\"huit\"]=8\n",
    "\n",
    "print (new_dict)"
   ]
  },
  {
   "cell_type": "code",
   "execution_count": 196,
   "metadata": {},
   "outputs": [
    {
     "name": "stdout",
     "output_type": "stream",
     "text": [
      "{'un': 1, 'deux': 2.0, 'trois': 3, 'quatre': 4, 'cinq': 5, 'six': 6, 'sept': 7, 'huit': 8}\n"
     ]
    }
   ],
   "source": [
    "# change \"deux\" to 2.0\n",
    "\n",
    "new_dict[\"deux\"]=2.0\n",
    "\n",
    "print (new_dict)\n"
   ]
  },
  {
   "cell_type": "code",
   "execution_count": 222,
   "metadata": {},
   "outputs": [
    {
     "name": "stdout",
     "output_type": "stream",
     "text": [
      "[6, 3, 5, 3, 2, 8, 6]\n",
      "{6: [], 3: [], 5: [], 2: [], 8: []}\n",
      "{6: ['dreams', 'things'], 3: ['and', 'are'], 5: ['memes'], 2: ['my'], 8: ['favorite']}\n"
     ]
    }
   ],
   "source": [
    "### challenge: create a dictionary that sorts the following words by their length (length:[list of words]) ###\n",
    "# hint: begin by writing pseudocode using comments\n",
    "\n",
    "words = [\"dreams\", \"and\", \"memes\", \"are\", \"my\", \"favorite\", \"things\"]\n",
    "\n",
    "oh_dict={}\n",
    "len_list=[]\n",
    "\n",
    "for i in range (len(words)):\n",
    "    len_list.append(len(words[i]))\n",
    "\n",
    "print (len_list)\n",
    "\n",
    "for i in range (len(len_list)):\n",
    "    oh_dict[len_list[i]]= []   #we have to make a list here because there are multiple words of the same length\n",
    "    \n",
    "print (oh_dict)\n",
    "\n",
    "for word in words:\n",
    "    wordlength=len(word)\n",
    "    oh_dict[wordlength].append(word) #here we are looking for the value equivalent to each wordlength (i.e. 6) and th\n",
    "                                        #wherever we find it we are appending the word as the value in the list that is associated with that key\n",
    "\n",
    "print (oh_dict)\n",
    "\n",
    "# make the dictionary\n",
    "# then write the length of each word as the key\n",
    "# then add the word afterwards\n",
    "\n",
    "# print (len_list)\n"
   ]
  },
  {
   "cell_type": "code",
   "execution_count": 225,
   "metadata": {},
   "outputs": [
    {
     "name": "stdout",
     "output_type": "stream",
     "text": [
      "{6: [], 3: [], 5: [], 2: [], 8: []}\n",
      "{6: ['dreams', 'things'], 3: ['and', 'are'], 5: ['memes'], 2: ['my'], 8: ['favorite']}\n"
     ]
    }
   ],
   "source": [
    "## EDITED\n",
    "\n",
    "### challenge: create a dictionary that sorts the following words by their length (length:[list of words]) ###\n",
    "# hint: begin by writing pseudocode using comments\n",
    "\n",
    "words = [\"dreams\", \"and\", \"memes\", \"are\", \"my\", \"favorite\", \"things\"]\n",
    "\n",
    "oh_dict={}\n",
    "\n",
    "for word in words:\n",
    "    oh_dict[len(word)]= []   #we have to make a list here because there are multiple words of the same length\n",
    "    \n",
    "print (oh_dict)\n",
    "\n",
    "for word in words:\n",
    "    oh_dict[len(word)].append(word) #here we are looking for the value equivalent to each wordlength (i.e. 6) and th\n",
    "                                        #wherever we find it we are appending the word as the value in the list that is associated with that key\n",
    "\n",
    "print (oh_dict)\n",
    "\n",
    "# make the dictionary\n",
    "# then write the length of each word as the key\n",
    "# then add the word afterwards\n",
    "\n",
    "# print (len_list)\n"
   ]
  },
  {
   "cell_type": "markdown",
   "metadata": {},
   "source": [
    "##### concept checkpoint: data structures\n",
    "1. **What is a list**?\n",
    "    * answer: a bunch of elements in brackets which you can access by asking for the index # of the element. ordered\n",
    "\n",
    "\n",
    "2. **What functions can you use to add to a list? Remove?**\n",
    "    * answer: x.append(element) \n",
    "\n",
    "\n",
    "3. **What is it called when you access an element of a list? How is it done?**\n",
    "    * answer: you look for the index number and then you get back the value associated with it. like find x[0]\n",
    "   \n",
    "\n",
    "4. **What is a dictionary**?\n",
    "    * answer: a bunch of key value pairs, not ordered\n",
    "\n",
    "\n",
    "5. **What are the elements in a dictionary called?**\n",
    "    * answer: keys and values\n"
   ]
  },
  {
   "cell_type": "markdown",
   "metadata": {},
   "source": [
    "### Functions"
   ]
  },
  {
   "cell_type": "code",
   "execution_count": 226,
   "metadata": {},
   "outputs": [],
   "source": [
    "# functions let you avoid copying code around"
   ]
  },
  {
   "cell_type": "code",
   "execution_count": 227,
   "metadata": {},
   "outputs": [
    {
     "name": "stdout",
     "output_type": "stream",
     "text": [
      "memed!\n"
     ]
    }
   ],
   "source": [
    "# this function memes you\n",
    "\n",
    "def meme():\n",
    "    print(\"memed!\")\n",
    "    \n",
    "meme()"
   ]
  },
  {
   "cell_type": "code",
   "execution_count": 232,
   "metadata": {},
   "outputs": [],
   "source": [
    "# this function tells you how many letters are in a word\n",
    "\n",
    "def how_many_letters(string_input):\n",
    "    \"\"\"\n",
    "    This is a docstring. This function returns how many characters there are in a string input\n",
    "    \n",
    "    string_input: a String input\n",
    "    \n",
    "    Returns an int\n",
    "    \"\"\"\n",
    "    return len(string_input)\n",
    "\n"
   ]
  },
  {
   "cell_type": "code",
   "execution_count": 233,
   "metadata": {},
   "outputs": [
    {
     "data": {
      "text/plain": [
       "4"
      ]
     },
     "execution_count": 233,
     "metadata": {},
     "output_type": "execute_result"
    }
   ],
   "source": [
    "# try using it here\n",
    "how_many_letters(\"adam\")\n",
    "\n"
   ]
  },
  {
   "cell_type": "code",
   "execution_count": 241,
   "metadata": {},
   "outputs": [
    {
     "data": {
      "text/plain": [
       "15"
      ]
     },
     "execution_count": 241,
     "metadata": {},
     "output_type": "execute_result"
    }
   ],
   "source": [
    "# complete the function according to the docstring\n",
    "\n",
    "def list_sum(list_input):\n",
    "    \"\"\"\n",
    "    Returns the sum of the elements in a list\n",
    "    \n",
    "    list_input has integer elements\n",
    "    \n",
    "    \"\"\"\n",
    "    x=0\n",
    "    for i in list_input:\n",
    "        x=i+x\n",
    "    return x #this ends the function. if you put it in the function's for loop, it will break there\n",
    "\n",
    "test=[1,2,3,4,5]\n",
    "\n",
    "list_sum(test)\n"
   ]
  },
  {
   "cell_type": "code",
   "execution_count": 240,
   "metadata": {},
   "outputs": [
    {
     "name": "stdout",
     "output_type": "stream",
     "text": [
      "33 is odd\n",
      "2 is even\n"
     ]
    }
   ],
   "source": [
    "# write a function with a default parameter\n",
    "\n",
    "def even_or_odd(num=2):        #this is just a way to set a default value inherent in the function in case somebody gives it no input and you don't want to get an error back\n",
    "    if num%2==0:\n",
    "        print(num, \"is even\")\n",
    "    else:\n",
    "        print (num, \"is odd\")\n",
    "        \n",
    "even_or_odd(33)\n",
    "\n",
    "even_or_odd()"
   ]
  },
  {
   "cell_type": "code",
   "execution_count": 242,
   "metadata": {},
   "outputs": [
    {
     "data": {
      "text/plain": [
       "15"
      ]
     },
     "execution_count": 242,
     "metadata": {},
     "output_type": "execute_result"
    }
   ],
   "source": [
    "### very advanced function: recursion\n",
    "\n",
    "def recursive_list_sum(input_list):\n",
    "    if len(input_list) == 0: # BASE CASE\n",
    "        return 0\n",
    "    else:\n",
    "        return input_list[0] + recursive_list_sum(input_list[1:])\n",
    "test=[1,2,3,4,5]\n",
    "recursive_list_sum(test)"
   ]
  },
  {
   "cell_type": "markdown",
   "metadata": {},
   "source": [
    "##### concept checkpoint: functions\n",
    "1. **What is a function**?\n",
    "    * answer: a way to define the stuff you wanna do to a thing\n",
    "\n",
    "\n",
    "2. **Does a function need to have an input**?\n",
    "    * answer: not really, it can just produce the same thing every time. it can just do stuff. like the memed function\n",
    "\n",
    "\n",
    "3. **Does a function need to have an output**?\n",
    "    * answer: no. you can just do something without printing or returning\n",
    "   \n",
    "\n",
    "4. **What is the keyword that ends a function**?\n",
    "    * answer: return\n",
    "\n",
    "\n",
    "5. **Compare functions and methods.**\n",
    "    * answer: a method is a funtion which only applies to a specific object. Like append is a method which only works on a list object, as opposed to print which just does something to anything. \n",
    "    \n",
    "    \n",
    "6. **What use is a default paramter**?\n",
    "    * answer: what a function gives if you don't give it anything"
   ]
  },
  {
   "cell_type": "markdown",
   "metadata": {},
   "source": [
    "# [3] Using libraries \n",
    "**Computing & Stats**\n",
    "* NumPy\n",
    "* SciPy\n",
    "* Pandas\n",
    "* StatsModels\n",
    "\n",
    "**Visualization**\n",
    "* Matplotlib\n",
    "* Seaborn\n",
    "\n",
    "**Machine Learning**\n",
    "* Scikit-learn\n",
    "* TensorFlow\n",
    "* PyTorch\n",
    "* Keras\n",
    "* NLTK\n",
    "\n"
   ]
  },
  {
   "cell_type": "code",
   "execution_count": 243,
   "metadata": {},
   "outputs": [],
   "source": [
    "# Anaconda makes it easy to use libraries\n",
    "import numpy as np #don't need to say np here, it's just a way to make it shorter when you use it later\n"
   ]
  },
  {
   "cell_type": "code",
   "execution_count": 244,
   "metadata": {},
   "outputs": [
    {
     "data": {
      "text/plain": [
       "5.0"
      ]
     },
     "execution_count": 244,
     "metadata": {},
     "output_type": "execute_result"
    }
   ],
   "source": [
    "data = [4,5,6]\n",
    "\n",
    "# Use numpy to print the mean of the list\n",
    "\n",
    "np.mean(data)\n"
   ]
  },
  {
   "cell_type": "code",
   "execution_count": 248,
   "metadata": {},
   "outputs": [
    {
     "name": "stdout",
     "output_type": "stream",
     "text": [
      "<class 'numpy.ndarray'>\n",
      "<class 'list'>\n"
     ]
    }
   ],
   "source": [
    "# convert the list to a numpy array\n",
    "\n",
    "newarray=np.asarray(data) #asarray is a keyword\n",
    "print (type(newarray))\n",
    "\n",
    "# convert the array back to a list\n",
    "\n",
    "listy=list(newarray)\n",
    "print (type(listy))\n"
   ]
  },
  {
   "cell_type": "code",
   "execution_count": 251,
   "metadata": {},
   "outputs": [
    {
     "name": "stdout",
     "output_type": "stream",
     "text": [
      "[6 5 4]\n"
     ]
    }
   ],
   "source": [
    "# flip the order of the array (use a search engine to find the right function)\n",
    "\n",
    "x=np.flip(newarray)  #if you don't assign it to a new value, it won't get held anywhere in its new form\n",
    "print (x)\n"
   ]
  },
  {
   "cell_type": "markdown",
   "metadata": {},
   "source": [
    "# [4] Import some data\n",
    "\n",
    "### Project description:\n",
    "You are a new grad student at MIT. You are trying to decide where to live for the next several years, so you spend 20 days living in each location. You record your location, the amount you spent, and the amount of fun you had each day. Now you will analyze your data to make a decision.\n",
    "\n",
    "### Data\n",
    "Google sheet here:\n",
    "https://docs.google.com/spreadsheets/d/1d8JGtWLUcD_CwTdEsu1z5wmORvzBexDibA1FKdz_gdA/edit?usp=sharing\n",
    "\n",
    "Method 1: conversion, download, local storage, file access\n",
    "\n",
    "Method 2: online publish and direct access"
   ]
  },
  {
   "cell_type": "code",
   "execution_count": 261,
   "metadata": {},
   "outputs": [],
   "source": [
    "import pandas as pd\n",
    "\n"
   ]
  },
  {
   "cell_type": "code",
   "execution_count": 262,
   "metadata": {},
   "outputs": [
    {
     "data": {
      "text/html": [
       "<div>\n",
       "<style scoped>\n",
       "    .dataframe tbody tr th:only-of-type {\n",
       "        vertical-align: middle;\n",
       "    }\n",
       "\n",
       "    .dataframe tbody tr th {\n",
       "        vertical-align: top;\n",
       "    }\n",
       "\n",
       "    .dataframe thead th {\n",
       "        text-align: right;\n",
       "    }\n",
       "</style>\n",
       "<table border=\"1\" class=\"dataframe\">\n",
       "  <thead>\n",
       "    <tr style=\"text-align: right;\">\n",
       "      <th></th>\n",
       "      <th>day</th>\n",
       "      <th>cost</th>\n",
       "      <th>fun</th>\n",
       "      <th>location</th>\n",
       "    </tr>\n",
       "  </thead>\n",
       "  <tbody>\n",
       "    <tr>\n",
       "      <th>0</th>\n",
       "      <td>1</td>\n",
       "      <td>23</td>\n",
       "      <td>2</td>\n",
       "      <td>Boston</td>\n",
       "    </tr>\n",
       "    <tr>\n",
       "      <th>1</th>\n",
       "      <td>2</td>\n",
       "      <td>12</td>\n",
       "      <td>1</td>\n",
       "      <td>Boston</td>\n",
       "    </tr>\n",
       "    <tr>\n",
       "      <th>2</th>\n",
       "      <td>3</td>\n",
       "      <td>34</td>\n",
       "      <td>5</td>\n",
       "      <td>Boston</td>\n",
       "    </tr>\n",
       "    <tr>\n",
       "      <th>3</th>\n",
       "      <td>4</td>\n",
       "      <td>27</td>\n",
       "      <td>5</td>\n",
       "      <td>Boston</td>\n",
       "    </tr>\n",
       "    <tr>\n",
       "      <th>4</th>\n",
       "      <td>5</td>\n",
       "      <td>19</td>\n",
       "      <td>2</td>\n",
       "      <td>Boston</td>\n",
       "    </tr>\n",
       "  </tbody>\n",
       "</table>\n",
       "</div>"
      ],
      "text/plain": [
       "   day  cost  fun location\n",
       "0    1    23    2   Boston\n",
       "1    2    12    1   Boston\n",
       "2    3    34    5   Boston\n",
       "3    4    27    5   Boston\n",
       "4    5    19    2   Boston"
      ]
     },
     "execution_count": 262,
     "metadata": {},
     "output_type": "execute_result"
    }
   ],
   "source": [
    "# use Pandas to do method 1 THIS IS PRIVATE\n",
    "\n",
    "#first download it as a csv and put it in the same folder as where your jupyter notebook code is~!\n",
    "\n",
    "data=pd.read_csv(\"./meme_data.csv\") #./means current directory, where the jupyter notebook is\n",
    "data.head()"
   ]
  },
  {
   "cell_type": "code",
   "execution_count": 256,
   "metadata": {},
   "outputs": [],
   "source": [
    "# use Pandas to do method 2\n",
    "\n",
    "#go into the google sheets, and then go to file, publish to the web, make it as .csv , and then copy the link. but it is now on the internet for anyone to see\n",
    "\n",
    "data=pd.read_csv(\"https://docs.google.com/spreadsheets/d/e/2PACX-1vT9Z-W8BXfobHg_OJ1dt2oM1YJYXMRV9UlW2hg_e2SbnBIK2YxPHOT9Qm0Ih5UsD62t2qRL5Aa5OyiO/pub?output=csv\")\n",
    "\n"
   ]
  },
  {
   "cell_type": "code",
   "execution_count": 259,
   "metadata": {},
   "outputs": [
    {
     "data": {
      "text/html": [
       "<div>\n",
       "<style scoped>\n",
       "    .dataframe tbody tr th:only-of-type {\n",
       "        vertical-align: middle;\n",
       "    }\n",
       "\n",
       "    .dataframe tbody tr th {\n",
       "        vertical-align: top;\n",
       "    }\n",
       "\n",
       "    .dataframe thead th {\n",
       "        text-align: right;\n",
       "    }\n",
       "</style>\n",
       "<table border=\"1\" class=\"dataframe\">\n",
       "  <thead>\n",
       "    <tr style=\"text-align: right;\">\n",
       "      <th></th>\n",
       "      <th>day</th>\n",
       "      <th>cost</th>\n",
       "      <th>fun</th>\n",
       "      <th>location</th>\n",
       "    </tr>\n",
       "  </thead>\n",
       "  <tbody>\n",
       "    <tr>\n",
       "      <th>0</th>\n",
       "      <td>1</td>\n",
       "      <td>23</td>\n",
       "      <td>2</td>\n",
       "      <td>Boston</td>\n",
       "    </tr>\n",
       "    <tr>\n",
       "      <th>1</th>\n",
       "      <td>2</td>\n",
       "      <td>12</td>\n",
       "      <td>1</td>\n",
       "      <td>Boston</td>\n",
       "    </tr>\n",
       "  </tbody>\n",
       "</table>\n",
       "</div>"
      ],
      "text/plain": [
       "   day  cost  fun location\n",
       "0    1    23    2   Boston\n",
       "1    2    12    1   Boston"
      ]
     },
     "execution_count": 259,
     "metadata": {},
     "output_type": "execute_result"
    }
   ],
   "source": [
    "# preview the data using \"head()\" #this way you can choose how many rows you want to see\n",
    "\n",
    "data.head(2)"
   ]
  },
  {
   "cell_type": "markdown",
   "metadata": {},
   "source": [
    "#### let's think about some questions we want to answer and list them below\n",
    "\n",
    "* how did my fun change over time\n",
    "\n",
    "* which location was the most fun\n",
    "\n",
    "* how much money was spent in each spot\n",
    "\n",
    "* was each spot significantly different\n",
    "\n",
    "* did fun correlate with money"
   ]
  },
  {
   "cell_type": "markdown",
   "metadata": {},
   "source": [
    "# [5] Visualization and Analysis\n",
    "\n",
    "Let's answer our questions!"
   ]
  },
  {
   "cell_type": "code",
   "execution_count": 264,
   "metadata": {},
   "outputs": [],
   "source": [
    "import matplotlib.pyplot as plt"
   ]
  },
  {
   "cell_type": "code",
   "execution_count": 297,
   "metadata": {},
   "outputs": [
    {
     "name": "stdout",
     "output_type": "stream",
     "text": [
      "<class 'pandas.core.series.Series'>\n",
      "[2, 1, 5, 5, 2, 4, 4, 3, 3, 5, 2, 4, 2, 4, 5, 1, 3, 5, 1, 3]\n"
     ]
    }
   ],
   "source": [
    "# print (data.day)\n",
    "data.fun #this grabs the stuff associated with a column\n",
    "\n",
    "print(type(data.fun)) #a column is called a series in pandas\n",
    "\n",
    "print (data.fun.tolist())\n",
    "\n",
    "time_list=data.day.tolist()\n",
    "fun_list=data.fun.tolist()\n",
    "\n",
    "# data.loc[0] #this prints the stuff associated with a row"
   ]
  },
  {
   "cell_type": "code",
   "execution_count": 298,
   "metadata": {},
   "outputs": [
    {
     "data": {
      "image/png": "[encoded data removed]",
      "text/plain": [
       "<Figure size 432x288 with 1 Axes>"
      ]
     },
     "metadata": {
      "needs_background": "light"
     },
     "output_type": "display_data"
    }
   ],
   "source": [
    "plt.plot(time, fun, linewidth=3, color=\"r\", marker=\"H\")\n",
    "plt.title(\"fun over time\")\n",
    "plt.xlabel(\"time\")\n",
    "plt.xticks(time)  # this makes it tick along the x axis by units of time, not by weird random decimals\n",
    "plt.ylabel(\"fun\")\n",
    "plt.yticks(fun)\n",
    "\n",
    "\n",
    "plt.show() #this makes is not also print random stuff"
   ]
  },
  {
   "cell_type": "code",
   "execution_count": 300,
   "metadata": {},
   "outputs": [
    {
     "name": "stdout",
     "output_type": "stream",
     "text": [
      "3.4\n",
      "3.0\n"
     ]
    }
   ],
   "source": [
    "data.head(12)\n",
    "boston_fun=np.mean(fun_list[0:10])\n",
    "print (boston_fun)\n",
    "cambridge_fun=np.mean(fun_list[10:20])\n",
    "print (cambridge_fun)"
   ]
  },
  {
   "cell_type": "code",
   "execution_count": 305,
   "metadata": {},
   "outputs": [
    {
     "data": {
      "text/plain": [
       "Ttest_indResult(statistic=0.6123724356957944, pvalue=0.5479501508336089)"
      ]
     },
     "execution_count": 305,
     "metadata": {},
     "output_type": "execute_result"
    }
   ],
   "source": [
    "import scipy as sp\n",
    "from scipy import stats\n",
    "sp.stats.ttest_ind(fun_list[0:10], fun_list[10:20])"
   ]
  },
  {
   "cell_type": "code",
   "execution_count": 308,
   "metadata": {},
   "outputs": [
    {
     "data": {
      "image/png": "[encoded data removed]",
      "text/plain": [
       "<Figure size 432x288 with 1 Axes>"
      ]
     },
     "metadata": {
      "needs_background": "light"
     },
     "output_type": "display_data"
    }
   ],
   "source": [
    "plt.boxplot([fun_list[0:10], fun_list[10:20]])\n",
    "plt.title(\"fun boxplot\")\n",
    "plt.show()"
   ]
  },
  {
   "cell_type": "code",
   "execution_count": 324,
   "metadata": {},
   "outputs": [
    {
     "name": "stdout",
     "output_type": "stream",
     "text": [
      "[23, 12, 34, 27, 19, 45, 33, 36, 29, 38, 26, 34, 34, 37, 38, 47, 25, 49, 51, 43]\n",
      "29.6\n",
      "38.4\n",
      "Ttest_indResult(statistic=-2.091815146645325, pvalue=0.05089946271360794)\n"
     ]
    },
    {
     "data": {
      "image/png": "[encoded data removed]",
      "text/plain": [
       "<Figure size 432x288 with 1 Axes>"
      ]
     },
     "metadata": {
      "needs_background": "light"
     },
     "output_type": "display_data"
    }
   ],
   "source": [
    "cost_list=data.cost.tolist()\n",
    "print (cost_list)\n",
    "boston_cost=np.mean(cost_list[0:10])\n",
    "print (boston_cost)\n",
    "cambridge_cost=np.mean(cost_list[10:20])\n",
    "print (cambridge_cost)\n",
    "\n",
    "cost_result=sp.stats.ttest_ind(cost_list[0:10], cost_list[10:20])\n",
    "print (cost_result)\n",
    "\n",
    "plt.boxplot([cost_list[0:10], cost_list[10:20]])\n",
    "plt.title(\"cost boxplot\")\n",
    "\n",
    "\n",
    "plt.xticks([1,2], [\"boston\", \"cambridge\"])\n",
    "\n",
    "plt.show()\n",
    "\n"
   ]
  },
  {
   "cell_type": "code",
   "execution_count": 325,
   "metadata": {},
   "outputs": [
    {
     "data": {
      "text/html": [
       "<div>\n",
       "<style scoped>\n",
       "    .dataframe tbody tr th:only-of-type {\n",
       "        vertical-align: middle;\n",
       "    }\n",
       "\n",
       "    .dataframe tbody tr th {\n",
       "        vertical-align: top;\n",
       "    }\n",
       "\n",
       "    .dataframe thead th {\n",
       "        text-align: right;\n",
       "    }\n",
       "</style>\n",
       "<table border=\"1\" class=\"dataframe\">\n",
       "  <thead>\n",
       "    <tr style=\"text-align: right;\">\n",
       "      <th></th>\n",
       "      <th>day</th>\n",
       "      <th>cost</th>\n",
       "      <th>fun</th>\n",
       "      <th>location</th>\n",
       "    </tr>\n",
       "  </thead>\n",
       "  <tbody>\n",
       "    <tr>\n",
       "      <th>0</th>\n",
       "      <td>1</td>\n",
       "      <td>23</td>\n",
       "      <td>2</td>\n",
       "      <td>Boston</td>\n",
       "    </tr>\n",
       "    <tr>\n",
       "      <th>1</th>\n",
       "      <td>2</td>\n",
       "      <td>12</td>\n",
       "      <td>1</td>\n",
       "      <td>Boston</td>\n",
       "    </tr>\n",
       "    <tr>\n",
       "      <th>2</th>\n",
       "      <td>3</td>\n",
       "      <td>34</td>\n",
       "      <td>5</td>\n",
       "      <td>Boston</td>\n",
       "    </tr>\n",
       "    <tr>\n",
       "      <th>3</th>\n",
       "      <td>4</td>\n",
       "      <td>27</td>\n",
       "      <td>5</td>\n",
       "      <td>Boston</td>\n",
       "    </tr>\n",
       "    <tr>\n",
       "      <th>4</th>\n",
       "      <td>5</td>\n",
       "      <td>19</td>\n",
       "      <td>2</td>\n",
       "      <td>Boston</td>\n",
       "    </tr>\n",
       "  </tbody>\n",
       "</table>\n",
       "</div>"
      ],
      "text/plain": [
       "   day  cost  fun location\n",
       "0    1    23    2   Boston\n",
       "1    2    12    1   Boston\n",
       "2    3    34    5   Boston\n",
       "3    4    27    5   Boston\n",
       "4    5    19    2   Boston"
      ]
     },
     "execution_count": 325,
     "metadata": {},
     "output_type": "execute_result"
    }
   ],
   "source": [
    "data.head()"
   ]
  },
  {
   "cell_type": "code",
   "execution_count": 330,
   "metadata": {},
   "outputs": [
    {
     "data": {
      "image/png": "[encoded data removed]",
      "text/plain": [
       "<Figure size 432x288 with 1 Axes>"
      ]
     },
     "metadata": {
      "needs_background": "light"
     },
     "output_type": "display_data"
    },
    {
     "data": {
      "text/plain": [
       "(0.7314166487019057, 0.016218433971828747)"
      ]
     },
     "execution_count": 330,
     "metadata": {},
     "output_type": "execute_result"
    }
   ],
   "source": [
    "plt.scatter(fun_list[0:10], cost_list[0:10])\n",
    "plt.title(\"Boston\")\n",
    "plt.xlabel(\"fun\")\n",
    "plt.ylabel(\"cost\")\n",
    "plt.show()\n",
    "\n",
    "\n",
    "sp.stats.pearsonr(fun_list[0:10], cost_list[0:10])\n"
   ]
  },
  {
   "cell_type": "code",
   "execution_count": 329,
   "metadata": {},
   "outputs": [
    {
     "data": {
      "image/png": "[encoded data removed]",
      "text/plain": [
       "<Figure size 432x288 with 1 Axes>"
      ]
     },
     "metadata": {
      "needs_background": "light"
     },
     "output_type": "display_data"
    },
    {
     "data": {
      "text/plain": [
       "(-0.09039501523335432, 0.8038687751510465)"
      ]
     },
     "execution_count": 329,
     "metadata": {},
     "output_type": "execute_result"
    }
   ],
   "source": [
    "plt.scatter(fun_list[10:20], cost_list[10:20])\n",
    "plt.title(\"Cambridge\")\n",
    "plt.xlabel(\"fun\")\n",
    "plt.ylabel(\"cost\")\n",
    "plt.show()\n",
    "\n",
    "\n",
    "sp.stats.pearsonr(fun_list[10:20], cost_list[10:20])\n"
   ]
  },
  {
   "cell_type": "code",
   "execution_count": 331,
   "metadata": {},
   "outputs": [
    {
     "data": {
      "image/png": "[encoded data removed]",
      "text/plain": [
       "<Figure size 432x288 with 1 Axes>"
      ]
     },
     "metadata": {
      "needs_background": "light"
     },
     "output_type": "display_data"
    },
    {
     "data": {
      "text/plain": [
       "(0.2261335084333227, 0.3377200518163789)"
      ]
     },
     "execution_count": 331,
     "metadata": {},
     "output_type": "execute_result"
    }
   ],
   "source": [
    "plt.scatter(fun_list, cost_list)\n",
    "plt.xlabel(\"fun\")\n",
    "plt.ylabel(\"cost\")\n",
    "plt.show()\n",
    "\n",
    "\n",
    "sp.stats.pearsonr(fun_list, cost_list)"
   ]
  },
  {
   "cell_type": "markdown",
   "metadata": {},
   "source": [
    "# [6] Debugging\n",
    "\n",
    "Some common issues\n",
    "\n",
    "For each: \n",
    "1. Run the cell to observe the error\n",
    "2. Copy the cell and fix the bug\n"
   ]
  },
  {
   "cell_type": "code",
   "execution_count": 332,
   "metadata": {},
   "outputs": [
    {
     "ename": "KeyboardInterrupt",
     "evalue": "",
     "output_type": "error",
     "traceback": [
      "\u001b[0;31m---------------------------------------------------------------------------\u001b[0m",
      "\u001b[0;31mKeyboardInterrupt\u001b[0m                         Traceback (most recent call last)",
      "\u001b[0;32m<ipython-input-332-7873274cb531>\u001b[0m in \u001b[0;36m<module>\u001b[0;34m\u001b[0m\n\u001b[1;32m      2\u001b[0m \u001b[0mi\u001b[0m \u001b[0;34m=\u001b[0m \u001b[0;36m0\u001b[0m\u001b[0;34m\u001b[0m\u001b[0;34m\u001b[0m\u001b[0m\n\u001b[1;32m      3\u001b[0m \u001b[0;32mwhile\u001b[0m \u001b[0;34m(\u001b[0m\u001b[0mi\u001b[0m \u001b[0;34m<\u001b[0m \u001b[0;36m10\u001b[0m\u001b[0;34m)\u001b[0m\u001b[0;34m:\u001b[0m\u001b[0;34m\u001b[0m\u001b[0;34m\u001b[0m\u001b[0m\n\u001b[0;32m----> 4\u001b[0;31m     \u001b[0;32mcontinue\u001b[0m\u001b[0;34m\u001b[0m\u001b[0;34m\u001b[0m\u001b[0m\n\u001b[0m",
      "\u001b[0;31mKeyboardInterrupt\u001b[0m: "
     ]
    }
   ],
   "source": [
    "# infinite loop error\n",
    "i = 0\n",
    "while (i < 10):\n",
    "    continue"
   ]
  },
  {
   "cell_type": "code",
   "execution_count": 333,
   "metadata": {},
   "outputs": [],
   "source": [
    "# infinite loop error\n",
    "i = 0\n",
    "while (i < 10):\n",
    "    break"
   ]
  },
  {
   "cell_type": "code",
   "execution_count": 334,
   "metadata": {},
   "outputs": [
    {
     "ename": "SyntaxError",
     "evalue": "invalid syntax (<ipython-input-334-c08ca33b5eb4>, line 2)",
     "output_type": "error",
     "traceback": [
      "\u001b[0;36m  File \u001b[0;32m\"<ipython-input-334-c08ca33b5eb4>\"\u001b[0;36m, line \u001b[0;32m2\u001b[0m\n\u001b[0;31m    var =\u001b[0m\n\u001b[0m         ^\u001b[0m\n\u001b[0;31mSyntaxError\u001b[0m\u001b[0;31m:\u001b[0m invalid syntax\n"
     ]
    }
   ],
   "source": [
    "# syntax error: variable assignment\n",
    "var ="
   ]
  },
  {
   "cell_type": "code",
   "execution_count": 335,
   "metadata": {},
   "outputs": [],
   "source": [
    "# syntax error: variable assignment\n",
    "var = 45"
   ]
  },
  {
   "cell_type": "code",
   "execution_count": 336,
   "metadata": {},
   "outputs": [
    {
     "ename": "TypeError",
     "evalue": "'int' object is not iterable",
     "output_type": "error",
     "traceback": [
      "\u001b[0;31m---------------------------------------------------------------------------\u001b[0m",
      "\u001b[0;31mTypeError\u001b[0m                                 Traceback (most recent call last)",
      "\u001b[0;32m<ipython-input-336-2ee406c5bd5a>\u001b[0m in \u001b[0;36m<module>\u001b[0;34m\u001b[0m\n\u001b[1;32m      1\u001b[0m \u001b[0;31m# syntax error: iteration\u001b[0m\u001b[0;34m\u001b[0m\u001b[0;34m\u001b[0m\u001b[0;34m\u001b[0m\u001b[0m\n\u001b[0;32m----> 2\u001b[0;31m \u001b[0;32mfor\u001b[0m \u001b[0mi\u001b[0m \u001b[0;32min\u001b[0m \u001b[0;36m10\u001b[0m\u001b[0;34m:\u001b[0m\u001b[0;34m\u001b[0m\u001b[0;34m\u001b[0m\u001b[0m\n\u001b[0m\u001b[1;32m      3\u001b[0m     \u001b[0mprint\u001b[0m\u001b[0;34m(\u001b[0m\u001b[0mi\u001b[0m\u001b[0;34m)\u001b[0m\u001b[0;34m\u001b[0m\u001b[0;34m\u001b[0m\u001b[0m\n",
      "\u001b[0;31mTypeError\u001b[0m: 'int' object is not iterable"
     ]
    }
   ],
   "source": [
    "# syntax error: iteration\n",
    "for i in 10:\n",
    "    print(i)"
   ]
  },
  {
   "cell_type": "code",
   "execution_count": 339,
   "metadata": {},
   "outputs": [
    {
     "name": "stdout",
     "output_type": "stream",
     "text": [
      "1\n",
      "2\n",
      "3\n",
      "4\n",
      "5\n",
      "6\n",
      "7\n",
      "8\n",
      "9\n"
     ]
    }
   ],
   "source": [
    "# syntax error: iteration\n",
    "for i in range(1,10):\n",
    "    print(i)"
   ]
  },
  {
   "cell_type": "code",
   "execution_count": 340,
   "metadata": {},
   "outputs": [
    {
     "ename": "SyntaxError",
     "evalue": "invalid syntax (<ipython-input-340-37a6c250a976>, line 2)",
     "output_type": "error",
     "traceback": [
      "\u001b[0;36m  File \u001b[0;32m\"<ipython-input-340-37a6c250a976>\"\u001b[0;36m, line \u001b[0;32m2\u001b[0m\n\u001b[0;31m    for in range(10)\u001b[0m\n\u001b[0m         ^\u001b[0m\n\u001b[0;31mSyntaxError\u001b[0m\u001b[0;31m:\u001b[0m invalid syntax\n"
     ]
    }
   ],
   "source": [
    "# syntax error: iteration\n",
    "for in range(10)\n",
    "    print(i)"
   ]
  },
  {
   "cell_type": "code",
   "execution_count": 344,
   "metadata": {},
   "outputs": [
    {
     "name": "stdout",
     "output_type": "stream",
     "text": [
      "1\n",
      "2\n",
      "3\n",
      "4\n",
      "5\n",
      "6\n",
      "7\n",
      "8\n",
      "9\n"
     ]
    }
   ],
   "source": [
    "# syntax error: iteration\n",
    "for i in range(1,10):\n",
    "    print(i)"
   ]
  },
  {
   "cell_type": "code",
   "execution_count": 345,
   "metadata": {},
   "outputs": [
    {
     "ename": "SyntaxError",
     "evalue": "unexpected EOF while parsing (<ipython-input-345-22743bfbdebc>, line 2)",
     "output_type": "error",
     "traceback": [
      "\u001b[0;36m  File \u001b[0;32m\"<ipython-input-345-22743bfbdebc>\"\u001b[0;36m, line \u001b[0;32m2\u001b[0m\n\u001b[0;31m    print((1+4)*(4.0/6)-(8-1)\u001b[0m\n\u001b[0m                             ^\u001b[0m\n\u001b[0;31mSyntaxError\u001b[0m\u001b[0;31m:\u001b[0m unexpected EOF while parsing\n"
     ]
    }
   ],
   "source": [
    "# syntax error: parenthetical mismatch\n",
    "print((1+4)*(4.0/6)-(8-1)"
   ]
  },
  {
   "cell_type": "code",
   "execution_count": 346,
   "metadata": {},
   "outputs": [
    {
     "name": "stdout",
     "output_type": "stream",
     "text": [
      "-3.666666666666667\n"
     ]
    }
   ],
   "source": [
    "# syntax error: parenthetical mismatch\n",
    "print((1+4)*(4.0/6)-(8-1))"
   ]
  },
  {
   "cell_type": "code",
   "execution_count": 348,
   "metadata": {},
   "outputs": [
    {
     "name": "stdout",
     "output_type": "stream",
     "text": [
      "0\n",
      "1\n",
      "2\n",
      "3\n"
     ]
    },
    {
     "ename": "IndexError",
     "evalue": "list index out of range",
     "output_type": "error",
     "traceback": [
      "\u001b[0;31m---------------------------------------------------------------------------\u001b[0m",
      "\u001b[0;31mIndexError\u001b[0m                                Traceback (most recent call last)",
      "\u001b[0;32m<ipython-input-348-0ec477b2c042>\u001b[0m in \u001b[0;36m<module>\u001b[0;34m\u001b[0m\n\u001b[1;32m      2\u001b[0m \u001b[0mdata\u001b[0m \u001b[0;34m=\u001b[0m \u001b[0;34m[\u001b[0m\u001b[0;36m0\u001b[0m\u001b[0;34m,\u001b[0m\u001b[0;36m1\u001b[0m\u001b[0;34m,\u001b[0m\u001b[0;36m2\u001b[0m\u001b[0;34m,\u001b[0m\u001b[0;36m3\u001b[0m\u001b[0;34m]\u001b[0m\u001b[0;34m\u001b[0m\u001b[0;34m\u001b[0m\u001b[0m\n\u001b[1;32m      3\u001b[0m \u001b[0;32mfor\u001b[0m \u001b[0mi\u001b[0m \u001b[0;32min\u001b[0m \u001b[0mrange\u001b[0m\u001b[0;34m(\u001b[0m\u001b[0;36m5\u001b[0m\u001b[0;34m)\u001b[0m\u001b[0;34m:\u001b[0m\u001b[0;34m\u001b[0m\u001b[0;34m\u001b[0m\u001b[0m\n\u001b[0;32m----> 4\u001b[0;31m     \u001b[0mprint\u001b[0m\u001b[0;34m(\u001b[0m\u001b[0mdata\u001b[0m\u001b[0;34m[\u001b[0m\u001b[0mi\u001b[0m\u001b[0;34m]\u001b[0m\u001b[0;34m)\u001b[0m\u001b[0;34m\u001b[0m\u001b[0;34m\u001b[0m\u001b[0m\n\u001b[0m",
      "\u001b[0;31mIndexError\u001b[0m: list index out of range"
     ]
    }
   ],
   "source": [
    "# off by one\n",
    "data = [0,1,2,3]\n",
    "for i in range(5):\n",
    "    print(data[i])"
   ]
  },
  {
   "cell_type": "code",
   "execution_count": 349,
   "metadata": {},
   "outputs": [
    {
     "name": "stdout",
     "output_type": "stream",
     "text": [
      "0\n",
      "1\n",
      "2\n",
      "3\n"
     ]
    }
   ],
   "source": [
    "# off by one\n",
    "data = [0,1,2,3]\n",
    "for i in range(4):\n",
    "    print(data[i])"
   ]
  },
  {
   "cell_type": "code",
   "execution_count": 347,
   "metadata": {},
   "outputs": [
    {
     "name": "stdout",
     "output_type": "stream",
     "text": [
      "1\n",
      "2\n",
      "3\n"
     ]
    },
    {
     "ename": "KeyError",
     "evalue": "4",
     "output_type": "error",
     "traceback": [
      "\u001b[0;31m---------------------------------------------------------------------------\u001b[0m",
      "\u001b[0;31mKeyError\u001b[0m                                  Traceback (most recent call last)",
      "\u001b[0;32m<ipython-input-347-d0fda5aa94d1>\u001b[0m in \u001b[0;36m<module>\u001b[0;34m\u001b[0m\n\u001b[1;32m      2\u001b[0m \u001b[0mmy_dict\u001b[0m \u001b[0;34m=\u001b[0m \u001b[0;34m{\u001b[0m\u001b[0;36m1\u001b[0m\u001b[0;34m:\u001b[0m\u001b[0;36m1\u001b[0m\u001b[0;34m,\u001b[0m \u001b[0;36m2\u001b[0m\u001b[0;34m:\u001b[0m\u001b[0;36m2\u001b[0m\u001b[0;34m,\u001b[0m \u001b[0;36m3\u001b[0m\u001b[0;34m:\u001b[0m\u001b[0;36m3\u001b[0m\u001b[0;34m,\u001b[0m \u001b[0;36m5\u001b[0m\u001b[0;34m:\u001b[0m\u001b[0;36m5\u001b[0m\u001b[0;34m}\u001b[0m\u001b[0;34m\u001b[0m\u001b[0;34m\u001b[0m\u001b[0m\n\u001b[1;32m      3\u001b[0m \u001b[0;32mfor\u001b[0m \u001b[0mi\u001b[0m \u001b[0;32min\u001b[0m \u001b[0mrange\u001b[0m\u001b[0;34m(\u001b[0m\u001b[0;36m1\u001b[0m\u001b[0;34m,\u001b[0m \u001b[0;36m6\u001b[0m\u001b[0;34m)\u001b[0m\u001b[0;34m:\u001b[0m\u001b[0;34m\u001b[0m\u001b[0;34m\u001b[0m\u001b[0m\n\u001b[0;32m----> 4\u001b[0;31m     \u001b[0mprint\u001b[0m\u001b[0;34m(\u001b[0m\u001b[0mmy_dict\u001b[0m\u001b[0;34m[\u001b[0m\u001b[0mi\u001b[0m\u001b[0;34m]\u001b[0m\u001b[0;34m)\u001b[0m\u001b[0;34m\u001b[0m\u001b[0;34m\u001b[0m\u001b[0m\n\u001b[0m",
      "\u001b[0;31mKeyError\u001b[0m: 4"
     ]
    }
   ],
   "source": [
    "# key error\n",
    "my_dict = {1:1, 2:2, 3:3, 5:5}\n",
    "for i in range(1, 6):\n",
    "    print(my_dict[i])"
   ]
  },
  {
   "cell_type": "code",
   "execution_count": 353,
   "metadata": {},
   "outputs": [
    {
     "name": "stdout",
     "output_type": "stream",
     "text": [
      "1\n",
      "2\n",
      "3\n",
      "5\n",
      "1\n",
      "2\n",
      "3\n",
      "5\n"
     ]
    }
   ],
   "source": [
    "# key error\n",
    "\n",
    "my_dict = {1:1, 2:2, 3:3, 5:5}\n",
    "for i in range(1, 6):\n",
    "    try:\n",
    "        print(my_dict[i])\n",
    "    except: #this is a way to skip exception cases, like here, where there is no key '4'. You DON\"T need to specify the error\n",
    "        continue\n",
    "        \n",
    "my_dict = {1:1, 2:2, 3:3, 5:5}\n",
    "for i in range(1, 6):\n",
    "    try:\n",
    "        print(my_dict[i])\n",
    "    except KeyError: #this is a way to skip exception cases, like here, where there is no key '4'. You DON\"T need to specify the error\n",
    "        continue"
   ]
  },
  {
   "cell_type": "code",
   "execution_count": 357,
   "metadata": {},
   "outputs": [
    {
     "ename": "TypeError",
     "evalue": "buggy() missing 1 required positional argument: 'string_input'",
     "output_type": "error",
     "traceback": [
      "\u001b[0;31m---------------------------------------------------------------------------\u001b[0m",
      "\u001b[0;31mTypeError\u001b[0m                                 Traceback (most recent call last)",
      "\u001b[0;32m<ipython-input-357-31a219a9f7a7>\u001b[0m in \u001b[0;36m<module>\u001b[0;34m\u001b[0m\n\u001b[1;32m      6\u001b[0m \u001b[0;31m# uncomment one at a time\u001b[0m\u001b[0;34m\u001b[0m\u001b[0;34m\u001b[0m\u001b[0;34m\u001b[0m\u001b[0m\n\u001b[1;32m      7\u001b[0m \u001b[0;31m# buggy(\"ok\", \"ok\")\u001b[0m\u001b[0;34m\u001b[0m\u001b[0;34m\u001b[0m\u001b[0;34m\u001b[0m\u001b[0m\n\u001b[0;32m----> 8\u001b[0;31m \u001b[0mbuggy\u001b[0m\u001b[0;34m(\u001b[0m\u001b[0;34m)\u001b[0m\u001b[0;34m\u001b[0m\u001b[0;34m\u001b[0m\u001b[0m\n\u001b[0m",
      "\u001b[0;31mTypeError\u001b[0m: buggy() missing 1 required positional argument: 'string_input'"
     ]
    }
   ],
   "source": [
    "# function argument error\n",
    "\n",
    "def buggy(string_input):\n",
    "    print(string_input)\n",
    "\n",
    "# uncomment one at a time\n",
    "# buggy(\"ok\", \"ok\")\n",
    "buggy()"
   ]
  },
  {
   "cell_type": "code",
   "execution_count": 358,
   "metadata": {},
   "outputs": [
    {
     "ename": "TypeError",
     "evalue": "tuple indices must be integers or slices, not list",
     "output_type": "error",
     "traceback": [
      "\u001b[0;31m---------------------------------------------------------------------------\u001b[0m",
      "\u001b[0;31mTypeError\u001b[0m                                 Traceback (most recent call last)",
      "\u001b[0;32m<ipython-input-358-f0c536d2eaf9>\u001b[0m in \u001b[0;36m<module>\u001b[0;34m\u001b[0m\n\u001b[1;32m      1\u001b[0m \u001b[0;31m# issue with package function\u001b[0m\u001b[0;34m\u001b[0m\u001b[0;34m\u001b[0m\u001b[0;34m\u001b[0m\u001b[0m\n\u001b[1;32m      2\u001b[0m \u001b[0;34m\u001b[0m\u001b[0m\n\u001b[0;32m----> 3\u001b[0;31m \u001b[0mnp\u001b[0m\u001b[0;34m.\u001b[0m\u001b[0mmean\u001b[0m\u001b[0;34m(\u001b[0m\u001b[0;34m[\u001b[0m\u001b[0;36m1\u001b[0m\u001b[0;34m,\u001b[0m\u001b[0;36m2\u001b[0m\u001b[0;34m,\u001b[0m\u001b[0;36m3\u001b[0m\u001b[0;34m]\u001b[0m\u001b[0;34m,\u001b[0m \u001b[0;34m[\u001b[0m\u001b[0;36m1\u001b[0m\u001b[0;34m,\u001b[0m\u001b[0;36m2\u001b[0m\u001b[0;34m,\u001b[0m\u001b[0;36m3\u001b[0m\u001b[0;34m]\u001b[0m\u001b[0;34m)\u001b[0m\u001b[0;34m\u001b[0m\u001b[0;34m\u001b[0m\u001b[0m\n\u001b[0m",
      "\u001b[0;32m/anaconda3/lib/python3.7/site-packages/numpy/core/fromnumeric.py\u001b[0m in \u001b[0;36mmean\u001b[0;34m(a, axis, dtype, out, keepdims)\u001b[0m\n\u001b[1;32m   3116\u001b[0m \u001b[0;34m\u001b[0m\u001b[0m\n\u001b[1;32m   3117\u001b[0m     return _methods._mean(a, axis=axis, dtype=dtype,\n\u001b[0;32m-> 3118\u001b[0;31m                           out=out, **kwargs)\n\u001b[0m\u001b[1;32m   3119\u001b[0m \u001b[0;34m\u001b[0m\u001b[0m\n\u001b[1;32m   3120\u001b[0m \u001b[0;34m\u001b[0m\u001b[0m\n",
      "\u001b[0;32m/anaconda3/lib/python3.7/site-packages/numpy/core/_methods.py\u001b[0m in \u001b[0;36m_mean\u001b[0;34m(a, axis, dtype, out, keepdims)\u001b[0m\n\u001b[1;32m     60\u001b[0m \u001b[0;34m\u001b[0m\u001b[0m\n\u001b[1;32m     61\u001b[0m     \u001b[0mis_float16_result\u001b[0m \u001b[0;34m=\u001b[0m \u001b[0;32mFalse\u001b[0m\u001b[0;34m\u001b[0m\u001b[0;34m\u001b[0m\u001b[0m\n\u001b[0;32m---> 62\u001b[0;31m     \u001b[0mrcount\u001b[0m \u001b[0;34m=\u001b[0m \u001b[0m_count_reduce_items\u001b[0m\u001b[0;34m(\u001b[0m\u001b[0marr\u001b[0m\u001b[0;34m,\u001b[0m \u001b[0maxis\u001b[0m\u001b[0;34m)\u001b[0m\u001b[0;34m\u001b[0m\u001b[0;34m\u001b[0m\u001b[0m\n\u001b[0m\u001b[1;32m     63\u001b[0m     \u001b[0;31m# Make this warning show up first\u001b[0m\u001b[0;34m\u001b[0m\u001b[0;34m\u001b[0m\u001b[0;34m\u001b[0m\u001b[0m\n\u001b[1;32m     64\u001b[0m     \u001b[0;32mif\u001b[0m \u001b[0mrcount\u001b[0m \u001b[0;34m==\u001b[0m \u001b[0;36m0\u001b[0m\u001b[0;34m:\u001b[0m\u001b[0;34m\u001b[0m\u001b[0;34m\u001b[0m\u001b[0m\n",
      "\u001b[0;32m/anaconda3/lib/python3.7/site-packages/numpy/core/_methods.py\u001b[0m in \u001b[0;36m_count_reduce_items\u001b[0;34m(arr, axis)\u001b[0m\n\u001b[1;32m     53\u001b[0m     \u001b[0mitems\u001b[0m \u001b[0;34m=\u001b[0m \u001b[0;36m1\u001b[0m\u001b[0;34m\u001b[0m\u001b[0;34m\u001b[0m\u001b[0m\n\u001b[1;32m     54\u001b[0m     \u001b[0;32mfor\u001b[0m \u001b[0max\u001b[0m \u001b[0;32min\u001b[0m \u001b[0maxis\u001b[0m\u001b[0;34m:\u001b[0m\u001b[0;34m\u001b[0m\u001b[0;34m\u001b[0m\u001b[0m\n\u001b[0;32m---> 55\u001b[0;31m         \u001b[0mitems\u001b[0m \u001b[0;34m*=\u001b[0m \u001b[0marr\u001b[0m\u001b[0;34m.\u001b[0m\u001b[0mshape\u001b[0m\u001b[0;34m[\u001b[0m\u001b[0max\u001b[0m\u001b[0;34m]\u001b[0m\u001b[0;34m\u001b[0m\u001b[0;34m\u001b[0m\u001b[0m\n\u001b[0m\u001b[1;32m     56\u001b[0m     \u001b[0;32mreturn\u001b[0m \u001b[0mitems\u001b[0m\u001b[0;34m\u001b[0m\u001b[0;34m\u001b[0m\u001b[0m\n\u001b[1;32m     57\u001b[0m \u001b[0;34m\u001b[0m\u001b[0m\n",
      "\u001b[0;31mTypeError\u001b[0m: tuple indices must be integers or slices, not list"
     ]
    }
   ],
   "source": [
    "# issue with package function\n",
    "\n",
    "np.mean([1,2,3], [1,2,3])"
   ]
  },
  {
   "cell_type": "code",
   "execution_count": 359,
   "metadata": {},
   "outputs": [
    {
     "data": {
      "text/plain": [
       "2.0"
      ]
     },
     "execution_count": 359,
     "metadata": {},
     "output_type": "execute_result"
    }
   ],
   "source": [
    "# issue with package function\n",
    "\n",
    "np.mean([[1,2,3], [1,2,3]])"
   ]
  },
  {
   "cell_type": "markdown",
   "metadata": {},
   "source": [
    "# [7] Memeing\n",
    "\n",
    "Python challenge!"
   ]
  },
  {
   "cell_type": "code",
   "execution_count": 361,
   "metadata": {},
   "outputs": [
    {
     "name": "stdout",
     "output_type": "stream",
     "text": [
      "[2, 3, 4, 6, 7]\n"
     ]
    }
   ],
   "source": [
    "# write the shortest function possible to sort a list\n",
    "\n",
    "lst=[4,6,2,7,3]\n",
    "x=sorted(lst)\n",
    "print (x)\n"
   ]
  },
  {
   "cell_type": "code",
   "execution_count": 362,
   "metadata": {},
   "outputs": [
    {
     "name": "stdout",
     "output_type": "stream",
     "text": [
      "2 0 1 9\n"
     ]
    }
   ],
   "source": [
    "# print \"2019\" without using any digits in your code \n",
    "\n",
    "a=\"ab\"\n",
    "b=\"\"\n",
    "c=\"r\"\n",
    "d=\"asdfghjkl\"\n",
    "\n",
    "print (len(a), len(b), len(c), len (d))\n",
    "\n"
   ]
  },
  {
   "cell_type": "code",
   "execution_count": 365,
   "metadata": {},
   "outputs": [
    {
     "data": {
      "text/plain": [
       "'i:like:food'"
      ]
     },
     "execution_count": 365,
     "metadata": {},
     "output_type": "execute_result"
    }
   ],
   "source": [
    "# in one line of code, turn \"I liKE foOd\" into \"i:like:food\"\n",
    "\n",
    "text = \"I liKE foOd\"\n",
    "\n",
    "\":\".join(text.lower().split())  #lower makes it lowercase, split splits each into an element of a list, then the colon thing puts colons between them"
   ]
  },
  {
   "cell_type": "markdown",
   "metadata": {},
   "source": [
    "I hope you enjoyed this tutorial. To end, please save, close and halt, and then commit and push your changes to your git repo. \n"
   ]
  }
 ],
 "metadata": {
  "kernelspec": {
   "display_name": "Python 3",
   "language": "python",
   "name": "python3"
  },
  "language_info": {
   "codemirror_mode": {
    "name": "ipython",
    "version": 3
   },
   "file_extension": ".py",
   "mimetype": "text/x-python",
   "name": "python",
   "nbconvert_exporter": "python",
   "pygments_lexer": "ipython3",
   "version": "3.7.3"
  }
 },
 "nbformat": 4,
 "nbformat_minor": 2
}
